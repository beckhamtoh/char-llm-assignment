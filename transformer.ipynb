{
  "cells": [
    {
      "cell_type": "code",
      "source": [
        "!git clone https://github.com/beckhamtoh/char-llm-assignment.git\n",
        "%cd char-llm-assignment"
      ],
      "metadata": {
        "id": "LNS1ztqUUrw7",
        "outputId": "21ffc255-cbb8-406b-e302-508d14d5848f",
        "colab": {
          "base_uri": "https://localhost:8080/"
        }
      },
      "id": "LNS1ztqUUrw7",
      "execution_count": 5,
      "outputs": [
        {
          "output_type": "stream",
          "name": "stdout",
          "text": [
            "Cloning into 'char-llm-assignment'...\n",
            "remote: Enumerating objects: 15, done.\u001b[K\n",
            "remote: Counting objects: 100% (15/15), done.\u001b[K\n",
            "remote: Compressing objects: 100% (11/11), done.\u001b[K\n",
            "remote: Total 15 (delta 0), reused 12 (delta 0), pack-reused 0 (from 0)\u001b[K\n",
            "Receiving objects: 100% (15/15), 30.14 MiB | 32.11 MiB/s, done.\n",
            "/content/char-llm-assignment\n"
          ]
        }
      ]
    },
    {
      "cell_type": "code",
      "execution_count": 6,
      "id": "e2def0f4",
      "metadata": {
        "id": "e2def0f4"
      },
      "outputs": [],
      "source": [
        "# Enable autoreload of local Python modules (e.g., models)\n",
        "# %load_ext autoreload\n",
        "# %autoreload 2\n",
        "\n",
        "# manual reload for local modules\n",
        "import importlib"
      ]
    },
    {
      "cell_type": "code",
      "execution_count": 7,
      "id": "d5001b05",
      "metadata": {
        "id": "d5001b05"
      },
      "outputs": [],
      "source": [
        "import os\n",
        "os.environ[\"CUDA_VISIBLE_DEVICES\"] = \"0\"\n",
        "\n",
        "import numpy as np\n",
        "import jax\n",
        "import jax.numpy as jnp\n",
        "import optax\n",
        "import time\n",
        "\n",
        "# local imports\n",
        "import models.models as models\n",
        "import util.generation as generation\n"
      ]
    },
    {
      "cell_type": "code",
      "execution_count": 8,
      "id": "906db4f2",
      "metadata": {
        "id": "906db4f2"
      },
      "outputs": [],
      "source": [
        "# initialize the jax random key\n",
        "key = jax.random.key(0)"
      ]
    },
    {
      "cell_type": "markdown",
      "id": "762a1c8f",
      "metadata": {
        "id": "762a1c8f"
      },
      "source": [
        "# Load data"
      ]
    },
    {
      "cell_type": "code",
      "execution_count": 9,
      "id": "86825275",
      "metadata": {
        "id": "86825275",
        "outputId": "51b635db-0434-44d4-ccc9-aa0b1093834e",
        "colab": {
          "base_uri": "https://localhost:8080/"
        }
      },
      "outputs": [
        {
          "output_type": "stream",
          "name": "stdout",
          "text": [
            "Length of training text: 90_000_000 characters\n",
            "Length of test text: 5_000_000 characters\n"
          ]
        }
      ],
      "source": [
        "# load the ./data/text8_train.txt and ./data/text8_test.txt files\n",
        "with open(\"./data/text8_train.txt\", \"r\") as f:\n",
        "    train_text = f.read()\n",
        "with open(\"./data/text8_test.txt\", \"r\") as f:\n",
        "    test_text = f.read()\n",
        "\n",
        "# print the length of the training text and test text\n",
        "print(f\"Length of training text: {len(train_text):_} characters\")\n",
        "print(f\"Length of test text: {len(test_text):_} characters\")"
      ]
    },
    {
      "cell_type": "markdown",
      "id": "7bfdca63",
      "metadata": {
        "id": "7bfdca63"
      },
      "source": []
    },
    {
      "cell_type": "code",
      "execution_count": 10,
      "id": "34b1eafe",
      "metadata": {
        "id": "34b1eafe"
      },
      "outputs": [],
      "source": [
        "# Build vocabulary (lowercase + space + a few punctuations)\n",
        "char_set = list(\"abcdefghijklmnopqrstuvwxyz \")\n",
        "char_to_int = {ch:i for i,ch in enumerate(char_set)}\n",
        "int_to_char = {i:ch for ch,i in char_to_int.items()}\n",
        "\n",
        "def encode(s):\n",
        "    \"\"\"Encode string to array of integers\"\"\"\n",
        "    ids = [char_to_int[c] for c in s]\n",
        "    return np.array(ids, dtype=np.uint8)  # use np.uint8 to save space"
      ]
    },
    {
      "cell_type": "code",
      "execution_count": 11,
      "id": "42b5af70",
      "metadata": {
        "id": "42b5af70"
      },
      "outputs": [],
      "source": [
        "# encode the text\n",
        "train_text_int = encode(train_text)\n",
        "test_text_int = encode(test_text)"
      ]
    },
    {
      "cell_type": "code",
      "execution_count": 12,
      "id": "6458536d",
      "metadata": {
        "id": "6458536d",
        "outputId": "f7572de8-c91b-4039-cedd-c6aab21535c1",
        "colab": {
          "base_uri": "https://localhost:8080/"
        }
      },
      "outputs": [
        {
          "output_type": "stream",
          "name": "stdout",
          "text": [
            "of the illness and went to the fragrant mountain to give thanks to the person when he discovered that his own daughter gave up h\n",
            "\n",
            "together they performed the arcade fire s song wake up from their album funeral he joined them again on one five september singi\n",
            "\n",
            "ro asiatic language phylum its closest relatives are the berber semitic and beja groups of languages written records of the egyp\n",
            "\n",
            "es were produced between about one nine three zero and one nine three five but the concept was abandonded because of its limited\n",
            "\n",
            "xt is read aloud twice during the celebration setting the biblical book of esther is set in the third year of ahasuerus a king o\n",
            "\n"
          ]
        }
      ],
      "source": [
        "# sanity check: display a few random characters from the training text\n",
        "T = 128\n",
        "for _ in range(5):\n",
        "    # choose random position in text\n",
        "    N = np.random.randint(low=0, high=len(train_text)-T)\n",
        "    print(train_text[N:N+T])\n",
        "    print()"
      ]
    },
    {
      "cell_type": "markdown",
      "id": "7724c34b",
      "metadata": {
        "id": "7724c34b"
      },
      "source": [
        "# Create a basic Transformer model"
      ]
    },
    {
      "cell_type": "code",
      "execution_count": 13,
      "id": "f5955c3f",
      "metadata": {
        "id": "f5955c3f"
      },
      "outputs": [],
      "source": [
        "def create_train_state(rng, vocab_size=27, d_model=64, n_layers=6, n_heads=8, max_len=128):\n",
        "    # create a basic Transformer model\n",
        "    model = models.DecoderOnlyTransformer(vocab_size, d_model, n_layers, n_heads, max_len)\n",
        "    # create a dummy input for initialization\n",
        "    dummy = jnp.zeros((1, min(16, max_len)), dtype=jnp.int32)\n",
        "    # pass the dummy input to the model to initialize the parameters\n",
        "    params = model.init({\"params\": rng}, dummy)[\"params\"]\n",
        "    return model, params"
      ]
    },
    {
      "cell_type": "code",
      "execution_count": 14,
      "id": "c3ea2291",
      "metadata": {
        "id": "c3ea2291"
      },
      "outputs": [],
      "source": [
        "# vocab size\n",
        "vocab_size= len(char_set)\n",
        "\n",
        "# internal model dimensions\n",
        "d_model=256\n",
        "\n",
        "# number of attention heads\n",
        "n_heads=8\n",
        "\n",
        "# number of Transformer layers\n",
        "n_layers=2\n",
        "\n",
        "# maximum sequence length\n",
        "max_len=128\n",
        "\n",
        "model, params = create_train_state(key, vocab_size, d_model, n_layers, n_heads, max_len)"
      ]
    },
    {
      "cell_type": "code",
      "execution_count": 15,
      "id": "c067e140",
      "metadata": {
        "id": "c067e140",
        "outputId": "93b52b7a-849a-4ef0-d784-6196a8832d50",
        "colab": {
          "base_uri": "https://localhost:8080/"
        }
      },
      "outputs": [
        {
          "output_type": "stream",
          "name": "stdout",
          "text": [
            "Number of parameters: 1_624_576\n"
          ]
        }
      ],
      "source": [
        "# compute the number of parameters\n",
        "def count_params(params):\n",
        "    return sum(x.size for x in jax.tree_util.tree_leaves(params))\n",
        "print(f\"Number of parameters: {count_params(params):_}\")"
      ]
    },
    {
      "cell_type": "code",
      "execution_count": 16,
      "id": "52231d73",
      "metadata": {
        "id": "52231d73",
        "outputId": "07cd9c86-6d8a-45d4-b7c6-497aa701c004",
        "colab": {
          "base_uri": "https://localhost:8080/"
        }
      },
      "outputs": [
        {
          "output_type": "stream",
          "name": "stdout",
          "text": [
            "batch shape: (4, 32)\n",
            "logits shape: (4, 32, 27)\n"
          ]
        }
      ],
      "source": [
        "# sanity check: create a batch of data & run a forward pass\n",
        "B, T = 4, 32\n",
        "batch = jax.random.randint(\n",
        "    key=key,\n",
        "    shape=(B, T), minval=0, maxval=len(char_set))\n",
        "logits = model.apply({\"params\": params}, batch)\n",
        "\n",
        "print(\"batch shape:\", batch.shape)  # (B, T)\n",
        "print(\"logits shape:\", logits.shape)  # (B, T, vocab_size)"
      ]
    },
    {
      "cell_type": "markdown",
      "id": "b0213425",
      "metadata": {
        "id": "b0213425"
      },
      "source": [
        "# Loss function"
      ]
    },
    {
      "cell_type": "code",
      "execution_count": 17,
      "id": "ab7a3479",
      "metadata": {
        "id": "ab7a3479"
      },
      "outputs": [],
      "source": [
        "@jax.jit\n",
        "def loss_and_metrics(logits, targets):\n",
        "    \"\"\"Compute cross-entropy loss and accuracy.\n",
        "\n",
        "    Assumes `targets` contains only valid integer class ids in [0, V-1] (no -1 ignore tokens).\n",
        "\n",
        "    Args:\n",
        "      logits: (B, T, V) float array of unnormalized scores.\n",
        "      targets: (B, T) integer array with ground-truth class ids.\n",
        "\n",
        "    Returns:\n",
        "      loss: scalar average cross-entropy over all positions.\n",
        "      metrics: dict with keys \"loss\" and \"acc\" (both scalars).\n",
        "    \"\"\"\n",
        "    # Flatten batch/time dims so optax works on shape (N, V) and (N,)\n",
        "    vocab = logits.shape[-1]\n",
        "    flat_logits = logits.reshape(-1, vocab)\n",
        "    flat_targets = targets.reshape(-1)\n",
        "\n",
        "    # Per-position cross-entropy, then mean over all positions\n",
        "    per_pos = optax.softmax_cross_entropy_with_integer_labels(flat_logits, flat_targets)\n",
        "    loss = per_pos.mean()\n",
        "\n",
        "    # prediction over all positions\n",
        "    preds = jnp.argmax(logits, axis=-1)  # (B, T)\n",
        "\n",
        "    # compute accuracy over only the last position\n",
        "    is_match = preds == targets\n",
        "\n",
        "    # Accuracy over all positions\n",
        "    acc_all = jnp.mean(is_match.astype(jnp.float32))\n",
        "\n",
        "    # Accuracy over only last position\n",
        "    acc_last = jnp.mean(is_match.astype(jnp.float32)[:,-1])\n",
        "\n",
        "    return loss, {\"loss\": loss, \"acc\": acc_all, \"acc_last\": acc_last}"
      ]
    },
    {
      "cell_type": "markdown",
      "id": "05221147",
      "metadata": {
        "id": "05221147"
      },
      "source": [
        "# Optimization step:"
      ]
    },
    {
      "cell_type": "code",
      "execution_count": 18,
      "id": "b720c846",
      "metadata": {
        "id": "b720c846"
      },
      "outputs": [],
      "source": [
        "# create an update function\n",
        "def train_step(params, opt_state, x, y, tx):\n",
        "    \"\"\"Single optimization step using optax optimizer.\n",
        "\n",
        "    Args:\n",
        "      params: pytree of model parameters.\n",
        "      opt_state: optax optimizer state corresponding to `params`.\n",
        "      x: (B, T) int array input tokens.\n",
        "      y: (B, T) int array target tokens.\n",
        "      tx: optax.GradientTransformation (already initialized).\n",
        "\n",
        "    Returns:\n",
        "      new_params: updated parameters after one gradient step.\n",
        "      new_opt_state: updated optimizer state.\n",
        "      metrics: dict of scalar metrics (loss, acc).\n",
        "    \"\"\"\n",
        "    def loss_fn(params):\n",
        "        logits = model.apply({\"params\": params}, x)\n",
        "        loss, metrics = loss_and_metrics(logits, y)\n",
        "        return loss, metrics\n",
        "\n",
        "    # compute gradients (loss is scalar, metrics is auxiliary)\n",
        "    (loss, metrics), grads = jax.value_and_grad(loss_fn, has_aux=True)(params)\n",
        "\n",
        "    # optax update: compute parameter updates and new optimizer state\n",
        "    updates, new_opt_state = tx.update(grads, opt_state, params)\n",
        "    new_params = optax.apply_updates(params, updates)\n",
        "    return new_params, new_opt_state, metrics\n",
        "\n",
        "# jit: last argument should be static because it is an object\n",
        "train_step = jax.jit(train_step, static_argnames=(\"tx\",))"
      ]
    },
    {
      "cell_type": "markdown",
      "id": "269d8e59",
      "metadata": {
        "id": "269d8e59"
      },
      "source": [
        "# Batch creation:"
      ]
    },
    {
      "cell_type": "code",
      "execution_count": 19,
      "id": "beb30f4e",
      "metadata": {
        "id": "beb30f4e"
      },
      "outputs": [],
      "source": [
        "# create a batch from the training data\n",
        "def get_batch(text_int, B, T):\n",
        "    \"\"\"Create a random batch of data from text_int.\n",
        "\n",
        "    Args:\n",
        "      text_int: 1D array of token ids.\n",
        "      B: batch size (number of sequences).\n",
        "      T: sequence length (number of tokens per sequence).\n",
        "\n",
        "    Returns:\n",
        "      x: (B, T) int array input tokens.\n",
        "      y: (B, T) int array target tokens.\n",
        "    \"\"\"\n",
        "    # choose random starting indices for each sequence in the batch\n",
        "    ix = np.random.randint(0, len(text_int) - T, size=B)\n",
        "    # inputs are text from i to i+T\n",
        "    x = np.stack([text_int[i:i+T] for i in ix])\n",
        "    # targets are text from i+1 to i+T+1\n",
        "    y = np.stack([text_int[i+1:i+T+1] for i in ix])\n",
        "    return jnp.array(x, dtype=jnp.int32), jnp.array(y, dtype=jnp.int32)"
      ]
    },
    {
      "cell_type": "markdown",
      "id": "f5da80db",
      "metadata": {
        "id": "f5da80db"
      },
      "source": [
        "# Optimizer creation:"
      ]
    },
    {
      "cell_type": "code",
      "execution_count": 20,
      "id": "340e8a4c",
      "metadata": {
        "id": "340e8a4c",
        "outputId": "4a97fd8e-b10f-4b29-d4fd-5fb5543ce688",
        "colab": {
          "base_uri": "https://localhost:8080/"
        }
      },
      "outputs": [
        {
          "output_type": "stream",
          "name": "stdout",
          "text": [
            "Initialized optimizer: Adam lr=0.001\n"
          ]
        }
      ],
      "source": [
        "# define optax optimizer\n",
        "learning_rate = 0.001\n",
        "# Create Adam optimizer (Optax)\n",
        "tx = optax.adam(learning_rate=learning_rate)\n",
        "# Initialize optimizer state for current params\n",
        "opt_state = tx.init(params)\n",
        "print(f\"Initialized optimizer: Adam lr={learning_rate}\")\n",
        "\n"
      ]
    },
    {
      "cell_type": "code",
      "execution_count": 21,
      "id": "28f2f1d0",
      "metadata": {
        "id": "28f2f1d0",
        "outputId": "0cf7e73b-2da4-4744-f245-bb416404f874",
        "colab": {
          "base_uri": "https://localhost:8080/"
        }
      },
      "outputs": [
        {
          "output_type": "stream",
          "name": "stdout",
          "text": [
            "iteration 0  time: 17.6 seconds\n",
            "\t \t loss(train :: test): 3.9401 :: 3.4968\n",
            "\t \t accuracy (train :: test): 2.2% :: 17.3%\n",
            "\t \t accuracy (last character) (train :: test): 1.6% :: 19.1%\n",
            "\n",
            "iteration 2_000  time: 28.4 seconds\n",
            "\t \t loss(train :: test): 1.4985 :: 1.4920\n",
            "\t \t accuracy (train :: test): 53.8% :: 53.7%\n",
            "\t \t accuracy (last character) (train :: test): 47.7% :: 54.9%\n",
            "\n",
            "iteration 4_000  time: 31.5 seconds\n",
            "\t \t loss(train :: test): 1.3810 :: 1.4471\n",
            "\t \t accuracy (train :: test): 57.1% :: 54.7%\n",
            "\t \t accuracy (last character) (train :: test): 60.2% :: 57.6%\n",
            "\n",
            "iteration 6_000  time: 34.5 seconds\n",
            "\t \t loss(train :: test): 1.3914 :: 1.4127\n",
            "\t \t accuracy (train :: test): 56.0% :: 56.1%\n",
            "\t \t accuracy (last character) (train :: test): 63.3% :: 60.4%\n",
            "\n",
            "iteration 8_000  time: 38.2 seconds\n",
            "\t \t loss(train :: test): 1.3960 :: 1.3999\n",
            "\t \t accuracy (train :: test): 55.8% :: 56.2%\n",
            "\t \t accuracy (last character) (train :: test): 71.9% :: 58.6%\n",
            "\n",
            "iteration 10_000  time: 41.9 seconds\n",
            "\t \t loss(train :: test): 1.3550 :: 1.3814\n",
            "\t \t accuracy (train :: test): 57.2% :: 56.8%\n",
            "\t \t accuracy (last character) (train :: test): 54.7% :: 59.6%\n",
            "\n",
            "iteration 12_000  time: 45.7 seconds\n",
            "\t \t loss(train :: test): 1.3417 :: 1.3814\n",
            "\t \t accuracy (train :: test): 58.3% :: 57.2%\n",
            "\t \t accuracy (last character) (train :: test): 70.3% :: 61.5%\n",
            "\n",
            "iteration 14_000  time: 49.6 seconds\n",
            "\t \t loss(train :: test): 1.4077 :: 1.3682\n",
            "\t \t accuracy (train :: test): 55.5% :: 57.2%\n",
            "\t \t accuracy (last character) (train :: test): 53.1% :: 58.7%\n",
            "\n",
            "iteration 16_000  time: 53.5 seconds\n",
            "\t \t loss(train :: test): 1.3337 :: 1.3514\n",
            "\t \t accuracy (train :: test): 58.4% :: 57.6%\n",
            "\t \t accuracy (last character) (train :: test): 58.6% :: 60.1%\n",
            "\n",
            "iteration 18_000  time: 57.2 seconds\n",
            "\t \t loss(train :: test): 1.4111 :: 1.3620\n",
            "\t \t accuracy (train :: test): 56.3% :: 57.2%\n",
            "\t \t accuracy (last character) (train :: test): 64.8% :: 60.7%\n",
            "\n",
            "iteration 20_000  time: 61.0 seconds\n",
            "\t \t loss(train :: test): 1.3461 :: 1.3644\n",
            "\t \t accuracy (train :: test): 57.7% :: 57.5%\n",
            "\t \t accuracy (last character) (train :: test): 68.0% :: 60.4%\n",
            "\n",
            "iteration 22_000  time: 64.9 seconds\n",
            "\t \t loss(train :: test): 1.3185 :: 1.3474\n",
            "\t \t accuracy (train :: test): 58.6% :: 57.5%\n",
            "\t \t accuracy (last character) (train :: test): 66.4% :: 59.7%\n",
            "\n",
            "iteration 24_000  time: 69.0 seconds\n",
            "\t \t loss(train :: test): 1.3312 :: 1.3488\n",
            "\t \t accuracy (train :: test): 58.7% :: 57.6%\n",
            "\t \t accuracy (last character) (train :: test): 64.8% :: 60.2%\n",
            "\n",
            "iteration 26_000  time: 72.7 seconds\n",
            "\t \t loss(train :: test): 1.3110 :: 1.3400\n",
            "\t \t accuracy (train :: test): 59.0% :: 58.0%\n",
            "\t \t accuracy (last character) (train :: test): 60.9% :: 63.8%\n",
            "\n",
            "iteration 28_000  time: 76.5 seconds\n",
            "\t \t loss(train :: test): 1.3407 :: 1.3286\n",
            "\t \t accuracy (train :: test): 57.4% :: 58.2%\n",
            "\t \t accuracy (last character) (train :: test): 58.6% :: 61.1%\n",
            "\n",
            "iteration 30_000  time: 80.3 seconds\n",
            "\t \t loss(train :: test): 1.3048 :: 1.3333\n",
            "\t \t accuracy (train :: test): 58.7% :: 58.1%\n",
            "\t \t accuracy (last character) (train :: test): 63.3% :: 61.2%\n",
            "\n",
            "iteration 32_000  time: 84.4 seconds\n",
            "\t \t loss(train :: test): 1.3756 :: 1.3336\n",
            "\t \t accuracy (train :: test): 56.3% :: 58.4%\n",
            "\t \t accuracy (last character) (train :: test): 50.0% :: 60.5%\n",
            "\n",
            "iteration 34_000  time: 88.1 seconds\n",
            "\t \t loss(train :: test): 1.2555 :: 1.3485\n",
            "\t \t accuracy (train :: test): 60.4% :: 57.7%\n",
            "\t \t accuracy (last character) (train :: test): 69.5% :: 59.9%\n",
            "\n",
            "iteration 36_000  time: 91.9 seconds\n",
            "\t \t loss(train :: test): 1.3076 :: 1.3171\n",
            "\t \t accuracy (train :: test): 57.9% :: 58.7%\n",
            "\t \t accuracy (last character) (train :: test): 56.2% :: 60.0%\n",
            "\n",
            "iteration 38_000  time: 96.0 seconds\n",
            "\t \t loss(train :: test): 1.2979 :: 1.3241\n",
            "\t \t accuracy (train :: test): 59.1% :: 58.2%\n",
            "\t \t accuracy (last character) (train :: test): 57.0% :: 63.6%\n",
            "\n",
            "iteration 40_000  time: 100.0 seconds\n",
            "\t \t loss(train :: test): 1.3465 :: 1.3093\n",
            "\t \t accuracy (train :: test): 57.0% :: 59.0%\n",
            "\t \t accuracy (last character) (train :: test): 57.8% :: 61.1%\n",
            "\n",
            "iteration 42_000  time: 104.1 seconds\n",
            "\t \t loss(train :: test): 1.2742 :: 1.3208\n",
            "\t \t accuracy (train :: test): 60.4% :: 58.5%\n",
            "\t \t accuracy (last character) (train :: test): 61.7% :: 61.9%\n",
            "\n",
            "iteration 44_000  time: 108.3 seconds\n",
            "\t \t loss(train :: test): 1.2897 :: 1.3252\n",
            "\t \t accuracy (train :: test): 59.4% :: 58.3%\n",
            "\t \t accuracy (last character) (train :: test): 64.8% :: 62.0%\n",
            "\n",
            "iteration 46_000  time: 112.0 seconds\n",
            "\t \t loss(train :: test): 1.2781 :: 1.3348\n",
            "\t \t accuracy (train :: test): 58.5% :: 58.3%\n",
            "\t \t accuracy (last character) (train :: test): 57.8% :: 61.0%\n",
            "\n",
            "iteration 48_000  time: 115.6 seconds\n",
            "\t \t loss(train :: test): 1.3256 :: 1.3248\n",
            "\t \t accuracy (train :: test): 58.4% :: 58.4%\n",
            "\t \t accuracy (last character) (train :: test): 57.0% :: 57.1%\n",
            "\n",
            "iteration 50_000  time: 119.3 seconds\n",
            "\t \t loss(train :: test): 1.3473 :: 1.3276\n",
            "\t \t accuracy (train :: test): 58.2% :: 58.2%\n",
            "\t \t accuracy (last character) (train :: test): 61.7% :: 64.6%\n",
            "\n",
            "iteration 52_000  time: 122.8 seconds\n",
            "\t \t loss(train :: test): 1.3050 :: 1.2972\n",
            "\t \t accuracy (train :: test): 59.0% :: 59.1%\n",
            "\t \t accuracy (last character) (train :: test): 64.8% :: 61.7%\n",
            "\n",
            "iteration 54_000  time: 126.1 seconds\n",
            "\t \t loss(train :: test): 1.2814 :: 1.3150\n",
            "\t \t accuracy (train :: test): 59.1% :: 59.0%\n",
            "\t \t accuracy (last character) (train :: test): 64.1% :: 62.3%\n",
            "\n",
            "iteration 56_000  time: 129.4 seconds\n",
            "\t \t loss(train :: test): 1.2584 :: 1.2929\n",
            "\t \t accuracy (train :: test): 59.9% :: 59.4%\n",
            "\t \t accuracy (last character) (train :: test): 63.3% :: 60.4%\n",
            "\n",
            "iteration 58_000  time: 133.4 seconds\n",
            "\t \t loss(train :: test): 1.2634 :: 1.3311\n",
            "\t \t accuracy (train :: test): 60.5% :: 58.0%\n",
            "\t \t accuracy (last character) (train :: test): 60.2% :: 60.0%\n",
            "\n",
            "iteration 60_000  time: 137.5 seconds\n",
            "\t \t loss(train :: test): 1.2527 :: 1.3026\n",
            "\t \t accuracy (train :: test): 60.1% :: 59.2%\n",
            "\t \t accuracy (last character) (train :: test): 65.6% :: 63.5%\n",
            "\n",
            "iteration 62_000  time: 141.7 seconds\n",
            "\t \t loss(train :: test): 1.3080 :: 1.3013\n",
            "\t \t accuracy (train :: test): 59.9% :: 59.1%\n",
            "\t \t accuracy (last character) (train :: test): 56.2% :: 63.3%\n",
            "\n",
            "iteration 64_000  time: 145.3 seconds\n",
            "\t \t loss(train :: test): 1.3026 :: 1.3093\n",
            "\t \t accuracy (train :: test): 58.7% :: 58.7%\n",
            "\t \t accuracy (last character) (train :: test): 67.2% :: 60.9%\n",
            "\n",
            "iteration 66_000  time: 148.6 seconds\n",
            "\t \t loss(train :: test): 1.2816 :: 1.3052\n",
            "\t \t accuracy (train :: test): 59.6% :: 58.8%\n",
            "\t \t accuracy (last character) (train :: test): 60.2% :: 61.0%\n",
            "\n",
            "iteration 68_000  time: 152.1 seconds\n",
            "\t \t loss(train :: test): 1.2936 :: 1.2852\n",
            "\t \t accuracy (train :: test): 59.4% :: 59.7%\n",
            "\t \t accuracy (last character) (train :: test): 65.6% :: 62.3%\n",
            "\n",
            "iteration 70_000  time: 155.8 seconds\n",
            "\t \t loss(train :: test): 1.2947 :: 1.2946\n",
            "\t \t accuracy (train :: test): 59.0% :: 59.2%\n",
            "\t \t accuracy (last character) (train :: test): 60.2% :: 63.5%\n",
            "\n",
            "iteration 72_000  time: 159.8 seconds\n",
            "\t \t loss(train :: test): 1.2625 :: 1.3023\n",
            "\t \t accuracy (train :: test): 60.7% :: 58.9%\n",
            "\t \t accuracy (last character) (train :: test): 67.2% :: 60.3%\n",
            "\n",
            "iteration 74_000  time: 163.3 seconds\n",
            "\t \t loss(train :: test): 1.2799 :: 1.2888\n",
            "\t \t accuracy (train :: test): 60.4% :: 59.4%\n",
            "\t \t accuracy (last character) (train :: test): 67.2% :: 61.3%\n",
            "\n",
            "iteration 76_000  time: 166.8 seconds\n",
            "\t \t loss(train :: test): 1.3196 :: 1.3035\n",
            "\t \t accuracy (train :: test): 58.7% :: 59.2%\n",
            "\t \t accuracy (last character) (train :: test): 65.6% :: 60.8%\n",
            "\n",
            "iteration 78_000  time: 169.9 seconds\n",
            "\t \t loss(train :: test): 1.2884 :: 1.3126\n",
            "\t \t accuracy (train :: test): 60.0% :: 58.3%\n",
            "\t \t accuracy (last character) (train :: test): 60.9% :: 58.5%\n",
            "\n",
            "iteration 80_000  time: 173.1 seconds\n",
            "\t \t loss(train :: test): 1.2707 :: 1.3040\n",
            "\t \t accuracy (train :: test): 59.9% :: 59.1%\n",
            "\t \t accuracy (last character) (train :: test): 68.0% :: 60.8%\n",
            "\n",
            "iteration 82_000  time: 177.0 seconds\n",
            "\t \t loss(train :: test): 1.2917 :: 1.3054\n",
            "\t \t accuracy (train :: test): 59.1% :: 58.9%\n",
            "\t \t accuracy (last character) (train :: test): 70.3% :: 60.6%\n",
            "\n",
            "iteration 84_000  time: 181.4 seconds\n",
            "\t \t loss(train :: test): 1.2430 :: 1.3067\n",
            "\t \t accuracy (train :: test): 60.5% :: 58.8%\n",
            "\t \t accuracy (last character) (train :: test): 59.4% :: 61.4%\n",
            "\n",
            "iteration 86_000  time: 185.4 seconds\n",
            "\t \t loss(train :: test): 1.2662 :: 1.2848\n",
            "\t \t accuracy (train :: test): 59.7% :: 59.3%\n",
            "\t \t accuracy (last character) (train :: test): 72.7% :: 63.0%\n",
            "\n",
            "iteration 88_000  time: 189.4 seconds\n",
            "\t \t loss(train :: test): 1.2857 :: 1.3101\n",
            "\t \t accuracy (train :: test): 60.7% :: 59.1%\n",
            "\t \t accuracy (last character) (train :: test): 64.8% :: 60.8%\n",
            "\n",
            "iteration 90_000  time: 193.4 seconds\n",
            "\t \t loss(train :: test): 1.3119 :: 1.2764\n",
            "\t \t accuracy (train :: test): 59.5% :: 60.0%\n",
            "\t \t accuracy (last character) (train :: test): 62.5% :: 65.6%\n",
            "\n",
            "iteration 92_000  time: 197.6 seconds\n",
            "\t \t loss(train :: test): 1.2760 :: 1.3048\n",
            "\t \t accuracy (train :: test): 59.4% :: 58.9%\n",
            "\t \t accuracy (last character) (train :: test): 63.3% :: 63.2%\n",
            "\n",
            "iteration 94_000  time: 201.5 seconds\n",
            "\t \t loss(train :: test): 1.2510 :: 1.2878\n",
            "\t \t accuracy (train :: test): 60.4% :: 59.5%\n",
            "\t \t accuracy (last character) (train :: test): 60.9% :: 62.3%\n",
            "\n",
            "iteration 96_000  time: 205.5 seconds\n",
            "\t \t loss(train :: test): 1.2959 :: 1.3091\n",
            "\t \t accuracy (train :: test): 60.2% :: 59.0%\n",
            "\t \t accuracy (last character) (train :: test): 60.2% :: 63.9%\n",
            "\n",
            "iteration 98_000  time: 209.5 seconds\n",
            "\t \t loss(train :: test): 1.2735 :: 1.2882\n",
            "\t \t accuracy (train :: test): 59.4% :: 59.3%\n",
            "\t \t accuracy (last character) (train :: test): 63.3% :: 61.8%\n",
            "\n",
            "iteration 99_999  time: 213.4 seconds\n",
            "\t \t loss(train :: test): 1.3252 :: 1.2807\n",
            "\t \t accuracy (train :: test): 57.8% :: 59.7%\n",
            "\t \t accuracy (last character) (train :: test): 59.4% :: 62.3%\n",
            "\n"
          ]
        }
      ],
      "source": [
        "niter = 100_000\n",
        "B, T = 128, 32\n",
        "loss_history = []\n",
        "time_history = []\n",
        "time_test_history = []\n",
        "loss_test_history = []\n",
        "time_start = time.time()\n",
        "for it in range(niter):\n",
        "    batch = get_batch(train_text_int, B, T)\n",
        "    input, target = batch[0], batch[1]\n",
        "    params_new, opt_state_new, metrics = train_step(params, opt_state, input, target, tx)\n",
        "\n",
        "    # update params and opt_state\n",
        "    params = params_new\n",
        "    opt_state = opt_state_new\n",
        "    acc = metrics['acc']\n",
        "    acc_last = metrics['acc_last']\n",
        "    loss = metrics['loss']\n",
        "\n",
        "    loss_history.append(loss)\n",
        "    time_history.append(time.time() - time_start)\n",
        "\n",
        "    if it % (niter // 50) == 0 or it == niter - 1:\n",
        "        time_since_start = time.time() - time_start\n",
        "        # compute loss on test set\n",
        "        B_test, T_test = 1024, 32\n",
        "        test_batch = get_batch(test_text_int, B_test, T_test)\n",
        "        test_input, test_target = test_batch[0], test_batch[1]\n",
        "        test_logits = model.apply({\"params\": params}, test_input)\n",
        "        test_loss, test_metrics = loss_and_metrics(test_logits, test_target)\n",
        "        test_acc = test_metrics['acc']\n",
        "        test_acc_last = test_metrics['acc_last']\n",
        "        loss_test_history.append(test_loss)\n",
        "        time_test_history.append(time_since_start)\n",
        "        print(f\"iteration {it:_}  time: {time_since_start:.1f} seconds\")\n",
        "        print(f\"\\t \\t loss(train :: test): {loss:.4f} :: {test_loss:.4f}\")\n",
        "        print(f\"\\t \\t accuracy (train :: test): {100*acc:.1f}% :: {100*test_acc:.1f}%\")\n",
        "        print(f\"\\t \\t accuracy (last character) (train :: test): {100*acc_last:.1f}% :: {100*test_acc_last:.1f}%\")\n",
        "        print()\n"
      ]
    },
    {
      "cell_type": "code",
      "execution_count": 22,
      "id": "217fb628",
      "metadata": {
        "id": "217fb628",
        "outputId": "ac4251cc-590b-4faf-c04f-1519e365cbe0",
        "colab": {
          "base_uri": "https://localhost:8080/",
          "height": 472
        }
      },
      "outputs": [
        {
          "output_type": "display_data",
          "data": {
            "text/plain": [
              "<Figure size 640x480 with 1 Axes>"
            ],
            "image/png": "[encoded data removed]"
          },
          "metadata": {}
        }
      ],
      "source": [
        "# plot the loss history\n",
        "import matplotlib.pyplot as plt\n",
        "plt.plot(time_history, loss_history, '-', label='train', color=\"blue\")\n",
        "plt.plot(time_test_history, loss_test_history, '-', label='test', lw=2, color=\"red\")\n",
        "plt.xlabel(\"Time (seconds)\")\n",
        "plt.ylabel(\"Loss\")\n",
        "plt.legend(loc='upper right')\n",
        "plt.title(\"Training Loss History\")\n",
        "plt.grid()"
      ]
    },
    {
      "cell_type": "code",
      "execution_count": 23,
      "id": "fbb0b0d1",
      "metadata": {
        "id": "fbb0b0d1",
        "outputId": "03cfe491-6885-4ba3-bb24-5657bfa6dd1c",
        "colab": {
          "base_uri": "https://localhost:8080/"
        }
      },
      "outputs": [
        {
          "output_type": "stream",
          "name": "stdout",
          "text": [
            "generated ids shape: (1, 1000)\n",
            "generated text:\n",
            "hello my fri i  s s i o se lo wah a d aninaledighanan bminelises chonusacha t cza e s s f ol us woriete i k be pacenonirem agemarerin a scarewanonodeme fl bes anane a ameloterin gh s c ugewaconatinibust on s s ovaninelililesole s s otene fedoppememes ckinton andecoderonema a whas s b pletr cha mus ilichongeris ckeanongoc f s east tha inedire inones sthira coperaris isted teledr pel an aliselitest simaralimorocarondamame antheg amoranari a s bes icani scckis opone c a amedinearevilidigobi tonertheadylahala ck s a h an t s ila dichunes k s c t gimat threare ononirillaminenilesagerit thus hanaman c y a t pon l raryche ralidat megusthegu fanethys s ieles tis t acozerorasttteche bix s af h alen stro ffus ch ts p flalisedof in inies shonanis blans oro bliran t frothowhon athas wosthesthanges ttvipodr mache cher aner ama f horen ma bs aronanoras tetonon edy manus attisisus me oninonetalackeris panoricanit hanee midof s wani a wame f wanereons s jns sunanamadis s tth chat anevalunepan ha ones onaderamated\n"
          ]
        }
      ],
      "source": [
        "B = 1\n",
        "seed = 42\n",
        "rng = jax.random.PRNGKey(seed)\n",
        "prompt = \"hello my fri\"\n",
        "# prompt_int = encode(prompt.lower())\n",
        "prompt_int = jnp.array([ [char_to_int.get(c, len(char_set)) for c in prompt.lower()[:64]] ], dtype=jnp.int32)\n",
        "\n",
        "gen_len = 1000\n",
        "out_ids = generation.generate_tokens(model, params, rng, prompt_int, gen_len, block_size=64,\n",
        "                          temperature=0.7, sample=True)\n",
        "print('generated ids shape:', out_ids.shape)\n",
        "print('generated text:')\n",
        "generated_text = ''.join(int_to_char.get(int(x), '?') for x in list(out_ids[0]))\n",
        "# concatenate with prompt\n",
        "print(prompt + generated_text)\n",
        "#print(''.join(int_to_char.get(int(x), '?') for x in list(out_ids[0])))"
      ]
    }
  ],
  "metadata": {
    "kernelspec": {
      "display_name": "Python 3",
      "name": "python3"
    },
    "language_info": {
      "codemirror_mode": {
        "name": "ipython",
        "version": 3
      },
      "file_extension": ".py",
      "mimetype": "text/x-python",
      "name": "python",
      "nbconvert_exporter": "python",
      "pygments_lexer": "ipython3",
      "version": "3.11.13"
    },
    "colab": {
      "provenance": [],
      "gpuType": "V5E1"
    },
    "accelerator": "TPU"
  },
  "nbformat": 4,
  "nbformat_minor": 5
}