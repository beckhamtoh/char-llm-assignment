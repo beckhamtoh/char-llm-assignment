{
 "cells": [
  {
   "cell_type": "code",
   "execution_count": 1,
   "id": "LNS1ztqUUrw7",
   "metadata": {
    "colab": {
     "base_uri": "https://localhost:8080/"
    },
    "execution": {
     "iopub.execute_input": "2025-10-30T21:40:02.533563Z",
     "iopub.status.busy": "2025-10-30T21:40:02.533339Z",
     "iopub.status.idle": "2025-10-30T21:40:05.306249Z",
     "shell.execute_reply": "2025-10-30T21:40:05.305215Z",
     "shell.execute_reply.started": "2025-10-30T21:40:02.533541Z"
    },
    "id": "LNS1ztqUUrw7",
    "outputId": "21ffc255-cbb8-406b-e302-508d14d5848f",
    "trusted": true
   },
   "outputs": [
    {
     "name": "stdout",
     "output_type": "stream",
     "text": [
      "Cloning into 'char-llm-assignment'...\n",
      "remote: Enumerating objects: 77, done.\u001b[K\n",
      "remote: Counting objects: 100% (77/77), done.\u001b[K\n",
      "remote: Compressing objects: 100% (59/59), done.\u001b[K\n",
      "remote: Total 77 (delta 30), reused 51 (delta 12), pack-reused 0 (from 0)\u001b[K\n",
      "Receiving objects: 100% (77/77), 30.51 MiB | 20.69 MiB/s, done.\n",
      "Resolving deltas: 100% (30/30), done.\n",
      "/kaggle/working/char-llm-assignment\n"
     ]
    }
   ],
   "source": [
    "!git clone https://github.com/beckhamtoh/char-llm-assignment.git\n",
    "%cd char-llm-assignment"
   ]
  },
  {
   "cell_type": "code",
   "execution_count": 2,
   "id": "e2def0f4",
   "metadata": {
    "execution": {
     "iopub.execute_input": "2025-10-30T21:40:05.307393Z",
     "iopub.status.busy": "2025-10-30T21:40:05.307143Z",
     "iopub.status.idle": "2025-10-30T21:40:05.311655Z",
     "shell.execute_reply": "2025-10-30T21:40:05.310821Z",
     "shell.execute_reply.started": "2025-10-30T21:40:05.307360Z"
    },
    "id": "e2def0f4",
    "trusted": true
   },
   "outputs": [],
   "source": [
    "# Enable autoreload of local Python modules (e.g., models)\n",
    "# %load_ext autoreload\n",
    "# %autoreload 2\n",
    "\n",
    "# manual reload for local modules\n",
    "import importlib"
   ]
  },
  {
   "cell_type": "code",
   "execution_count": 3,
   "id": "d5001b05",
   "metadata": {
    "execution": {
     "iopub.execute_input": "2025-10-30T21:40:05.313855Z",
     "iopub.status.busy": "2025-10-30T21:40:05.313628Z",
     "iopub.status.idle": "2025-10-30T21:40:07.807746Z",
     "shell.execute_reply": "2025-10-30T21:40:07.807197Z",
     "shell.execute_reply.started": "2025-10-30T21:40:05.313839Z"
    },
    "id": "d5001b05",
    "trusted": true
   },
   "outputs": [],
   "source": [
    "import os\n",
    "os.environ[\"CUDA_VISIBLE_DEVICES\"] = \"0\"\n",
    "\n",
    "import numpy as np\n",
    "import jax\n",
    "import jax.numpy as jnp\n",
    "import optax\n",
    "import time\n",
    "\n",
    "# local imports\n",
    "import models.models as models\n",
    "import util.generation as generation\n"
   ]
  },
  {
   "cell_type": "code",
   "execution_count": 4,
   "id": "906db4f2",
   "metadata": {
    "execution": {
     "iopub.execute_input": "2025-10-30T21:40:07.811106Z",
     "iopub.status.busy": "2025-10-30T21:40:07.810895Z",
     "iopub.status.idle": "2025-10-30T21:40:09.472249Z",
     "shell.execute_reply": "2025-10-30T21:40:09.471668Z",
     "shell.execute_reply.started": "2025-10-30T21:40:07.811089Z"
    },
    "id": "906db4f2",
    "trusted": true
   },
   "outputs": [
    {
     "name": "stderr",
     "output_type": "stream",
     "text": [
      "INFO:2025-10-30 21:40:08,410:jax._src.xla_bridge:924: Unable to initialize backend 'rocm': module 'jaxlib.xla_extension' has no attribute 'GpuAllocatorConfig'\n",
      "INFO:2025-10-30 21:40:08,422:jax._src.xla_bridge:924: Unable to initialize backend 'tpu': INTERNAL: Failed to open libtpu.so: libtpu.so: cannot open shared object file: No such file or directory\n"
     ]
    }
   ],
   "source": [
    "# initialize the jax random key\n",
    "key = jax.random.key(0)"
   ]
  },
  {
   "cell_type": "markdown",
   "id": "762a1c8f",
   "metadata": {
    "id": "762a1c8f"
   },
   "source": [
    "# Load data"
   ]
  },
  {
   "cell_type": "code",
   "execution_count": 5,
   "id": "86825275",
   "metadata": {
    "colab": {
     "base_uri": "https://localhost:8080/"
    },
    "execution": {
     "iopub.execute_input": "2025-10-30T21:40:09.473101Z",
     "iopub.status.busy": "2025-10-30T21:40:09.472921Z",
     "iopub.status.idle": "2025-10-30T21:40:09.632208Z",
     "shell.execute_reply": "2025-10-30T21:40:09.631542Z",
     "shell.execute_reply.started": "2025-10-30T21:40:09.473086Z"
    },
    "id": "86825275",
    "outputId": "51b635db-0434-44d4-ccc9-aa0b1093834e",
    "trusted": true
   },
   "outputs": [
    {
     "name": "stdout",
     "output_type": "stream",
     "text": [
      "Length of training text: 90_000_000 characters\n",
      "Length of test text: 5_000_000 characters\n"
     ]
    }
   ],
   "source": [
    "# load the ./data/text8_train.txt and ./data/text8_test.txt files\n",
    "with open(\"./data/text8_train.txt\", \"r\") as f:\n",
    "    train_text = f.read()\n",
    "with open(\"./data/text8_test.txt\", \"r\") as f:\n",
    "    test_text = f.read()\n",
    "\n",
    "# print the length of the training text and test text\n",
    "print(f\"Length of training text: {len(train_text):_} characters\")\n",
    "print(f\"Length of test text: {len(test_text):_} characters\")"
   ]
  },
  {
   "cell_type": "markdown",
   "id": "7bfdca63",
   "metadata": {
    "id": "7bfdca63"
   },
   "source": []
  },
  {
   "cell_type": "code",
   "execution_count": 6,
   "id": "34b1eafe",
   "metadata": {
    "execution": {
     "iopub.execute_input": "2025-10-30T21:40:09.633050Z",
     "iopub.status.busy": "2025-10-30T21:40:09.632866Z",
     "iopub.status.idle": "2025-10-30T21:40:09.637849Z",
     "shell.execute_reply": "2025-10-30T21:40:09.637221Z",
     "shell.execute_reply.started": "2025-10-30T21:40:09.633034Z"
    },
    "id": "34b1eafe",
    "trusted": true
   },
   "outputs": [],
   "source": [
    "# Build vocabulary (lowercase + space + a few punctuations)\n",
    "char_set = list(\"abcdefghijklmnopqrstuvwxyz \")\n",
    "char_to_int = {ch:i for i,ch in enumerate(char_set)}\n",
    "int_to_char = {i:ch for ch,i in char_to_int.items()}\n",
    "\n",
    "def encode(s):\n",
    "    \"\"\"Encode string to array of integers\"\"\"\n",
    "    ids = [char_to_int[c] for c in s]\n",
    "    return np.array(ids, dtype=np.uint8)  # use np.uint8 to save space"
   ]
  },
  {
   "cell_type": "code",
   "execution_count": 7,
   "id": "42b5af70",
   "metadata": {
    "execution": {
     "iopub.execute_input": "2025-10-30T21:40:09.638958Z",
     "iopub.status.busy": "2025-10-30T21:40:09.638617Z",
     "iopub.status.idle": "2025-10-30T21:40:17.094492Z",
     "shell.execute_reply": "2025-10-30T21:40:17.093906Z",
     "shell.execute_reply.started": "2025-10-30T21:40:09.638936Z"
    },
    "id": "42b5af70",
    "trusted": true
   },
   "outputs": [],
   "source": [
    "# encode the text\n",
    "train_text_int = encode(train_text)\n",
    "test_text_int = encode(test_text)"
   ]
  },
  {
   "cell_type": "code",
   "execution_count": 8,
   "id": "6458536d",
   "metadata": {
    "colab": {
     "base_uri": "https://localhost:8080/"
    },
    "execution": {
     "iopub.execute_input": "2025-10-30T21:40:17.097465Z",
     "iopub.status.busy": "2025-10-30T21:40:17.097253Z",
     "iopub.status.idle": "2025-10-30T21:40:17.102053Z",
     "shell.execute_reply": "2025-10-30T21:40:17.101328Z",
     "shell.execute_reply.started": "2025-10-30T21:40:17.097448Z"
    },
    "id": "6458536d",
    "outputId": "f7572de8-c91b-4039-cedd-c6aab21535c1",
    "trusted": true
   },
   "outputs": [
    {
     "name": "stdout",
     "output_type": "stream",
     "text": [
      " by a number of different peoples speaking distinct languages conflict between the illyrians and romans started in two two nine \n",
      "\n",
      "ts coverage of arab world issues the israeli palestinian conflict and wider arab israeli issues are a particularly controversial\n",
      "\n",
      "irst and last long poems mir io and lou pouemo dou rose both full scale epics in one two cantos mir io which is set in the poet \n",
      "\n",
      "rnfield after a heated argument parks walked out and his partnership with wilson came to an abrupt end many factors combined to \n",
      "\n",
      "thwest it is important to understand three limitations in the current conventions archaeological research focuses on items left \n",
      "\n"
     ]
    }
   ],
   "source": [
    "# sanity check: display a few random characters from the training text\n",
    "T = 128\n",
    "for _ in range(5):\n",
    "    # choose random position in text\n",
    "    N = np.random.randint(low=0, high=len(train_text)-T)\n",
    "    print(train_text[N:N+T])\n",
    "    print()"
   ]
  },
  {
   "cell_type": "markdown",
   "id": "7724c34b",
   "metadata": {
    "id": "7724c34b"
   },
   "source": [
    "# Create a basic Transformer model"
   ]
  },
  {
   "cell_type": "code",
   "execution_count": 9,
   "id": "f5955c3f",
   "metadata": {
    "execution": {
     "iopub.execute_input": "2025-10-30T21:40:17.102978Z",
     "iopub.status.busy": "2025-10-30T21:40:17.102729Z",
     "iopub.status.idle": "2025-10-30T21:40:17.113391Z",
     "shell.execute_reply": "2025-10-30T21:40:17.112690Z",
     "shell.execute_reply.started": "2025-10-30T21:40:17.102954Z"
    },
    "id": "f5955c3f",
    "trusted": true
   },
   "outputs": [],
   "source": [
    "def create_train_state(rng, model_type=\"transformer\", vocab_size=27, d_model=64, n_layers=6, n_heads=8, max_len=128):\n",
    "    \"\"\"Create model and initialize parameters.\n",
    "    \n",
    "    Args:\n",
    "        model_type: either \"transformer\" or \"lstm\"\n",
    "        other args same as before\n",
    "    \"\"\"\n",
    "    if model_type == \"lstm\":\n",
    "        # create LSTM model (doesn't need n_heads or max_len)\n",
    "        model = models.CharLSTM(vocab_size, d_model, n_layers)\n",
    "    else:\n",
    "        # create a basic Transformer model\n",
    "        model = models.DecoderOnlyTransformer(vocab_size, d_model, n_layers, n_heads, max_len)\n",
    "    \n",
    "    # create a dummy input for initialization\n",
    "    dummy = jnp.zeros((1, min(16, max_len)), dtype=jnp.int32)\n",
    "    # pass the dummy input to the model to initialize the parameters\n",
    "    params = model.init({\"params\": rng}, dummy)[\"params\"]\n",
    "    return model, params"
   ]
  },
  {
   "cell_type": "code",
   "execution_count": 10,
   "id": "c3ea2291",
   "metadata": {
    "execution": {
     "iopub.execute_input": "2025-10-30T21:40:17.114330Z",
     "iopub.status.busy": "2025-10-30T21:40:17.114101Z",
     "iopub.status.idle": "2025-10-30T21:40:21.184630Z",
     "shell.execute_reply": "2025-10-30T21:40:21.184039Z",
     "shell.execute_reply.started": "2025-10-30T21:40:17.114315Z"
    },
    "id": "c3ea2291",
    "trusted": true
   },
   "outputs": [],
   "source": [
    "# vocab size\n",
    "vocab_size= len(char_set)\n",
    "\n",
    "# internal model dimensions\n",
    "d_model=256\n",
    "\n",
    "# number of attention heads\n",
    "n_heads=8\n",
    "\n",
    "# number of Transformer layers\n",
    "n_layers=2\n",
    "\n",
    "# maximum sequence length\n",
    "max_len=128\n",
    "\n",
    "# Choose model type: \"transformer\" or \"lstm\"\n",
    "model_type = \"lstm\"  # Change this to \"transformer\" to use transformer\n",
    "\n",
    "model, params = create_train_state(key, model_type=model_type, vocab_size=vocab_size, \n",
    "                                   d_model=d_model, n_layers=n_layers, \n",
    "                                   n_heads=n_heads, max_len=max_len)"
   ]
  },
  {
   "cell_type": "code",
   "execution_count": 11,
   "id": "c067e140",
   "metadata": {
    "colab": {
     "base_uri": "https://localhost:8080/"
    },
    "execution": {
     "iopub.execute_input": "2025-10-30T21:40:21.185556Z",
     "iopub.status.busy": "2025-10-30T21:40:21.185355Z",
     "iopub.status.idle": "2025-10-30T21:40:21.190555Z",
     "shell.execute_reply": "2025-10-30T21:40:21.189812Z",
     "shell.execute_reply.started": "2025-10-30T21:40:21.185540Z"
    },
    "id": "c067e140",
    "outputId": "93b52b7a-849a-4ef0-d784-6196a8832d50",
    "trusted": true
   },
   "outputs": [
    {
     "name": "stdout",
     "output_type": "stream",
     "text": [
      "Number of parameters: 1_064_448\n"
     ]
    }
   ],
   "source": [
    "# compute the number of parameters\n",
    "def count_params(params):\n",
    "    return sum(x.size for x in jax.tree_util.tree_leaves(params))\n",
    "print(f\"Number of parameters: {count_params(params):_}\")"
   ]
  },
  {
   "cell_type": "code",
   "execution_count": 12,
   "id": "52231d73",
   "metadata": {
    "colab": {
     "base_uri": "https://localhost:8080/"
    },
    "execution": {
     "iopub.execute_input": "2025-10-30T21:40:21.191640Z",
     "iopub.status.busy": "2025-10-30T21:40:21.191383Z",
     "iopub.status.idle": "2025-10-30T21:40:23.884573Z",
     "shell.execute_reply": "2025-10-30T21:40:23.883832Z",
     "shell.execute_reply.started": "2025-10-30T21:40:21.191618Z"
    },
    "id": "52231d73",
    "outputId": "07cd9c86-6d8a-45d4-b7c6-497aa701c004",
    "trusted": true
   },
   "outputs": [
    {
     "name": "stdout",
     "output_type": "stream",
     "text": [
      "batch shape: (4, 32)\n",
      "logits shape: (4, 32, 27)\n"
     ]
    }
   ],
   "source": [
    "# sanity check: create a batch of data & run a forward pass\n",
    "B, T = 4, 32\n",
    "batch = jax.random.randint(\n",
    "    key=key,\n",
    "    shape=(B, T), minval=0, maxval=len(char_set))\n",
    "logits = model.apply({\"params\": params}, batch)\n",
    "\n",
    "print(\"batch shape:\", batch.shape)  # (B, T)\n",
    "print(\"logits shape:\", logits.shape)  # (B, T, vocab_size)"
   ]
  },
  {
   "cell_type": "markdown",
   "id": "b0213425",
   "metadata": {
    "id": "b0213425"
   },
   "source": [
    "# Loss function"
   ]
  },
  {
   "cell_type": "code",
   "execution_count": 13,
   "id": "ab7a3479",
   "metadata": {
    "execution": {
     "iopub.execute_input": "2025-10-30T21:40:23.886041Z",
     "iopub.status.busy": "2025-10-30T21:40:23.885506Z",
     "iopub.status.idle": "2025-10-30T21:40:23.891237Z",
     "shell.execute_reply": "2025-10-30T21:40:23.890626Z",
     "shell.execute_reply.started": "2025-10-30T21:40:23.886020Z"
    },
    "id": "ab7a3479",
    "trusted": true
   },
   "outputs": [],
   "source": [
    "@jax.jit\n",
    "def loss_and_metrics(logits, targets):\n",
    "    \"\"\"Compute cross-entropy loss and accuracy.\n",
    "\n",
    "    Assumes `targets` contains only valid integer class ids in [0, V-1] (no -1 ignore tokens).\n",
    "\n",
    "    Args:\n",
    "      logits: (B, T, V) float array of unnormalized scores.\n",
    "      targets: (B, T) integer array with ground-truth class ids.\n",
    "\n",
    "    Returns:\n",
    "      loss: scalar average cross-entropy over all positions.\n",
    "      metrics: dict with keys \"loss\" and \"acc\" (both scalars).\n",
    "    \"\"\"\n",
    "    # Flatten batch/time dims so optax works on shape (N, V) and (N,)\n",
    "    vocab = logits.shape[-1]\n",
    "    flat_logits = logits.reshape(-1, vocab)\n",
    "    flat_targets = targets.reshape(-1)\n",
    "\n",
    "    # Per-position cross-entropy, then mean over all positions\n",
    "    per_pos = optax.softmax_cross_entropy_with_integer_labels(flat_logits, flat_targets)\n",
    "    loss = per_pos.mean()\n",
    "\n",
    "    # prediction over all positions\n",
    "    preds = jnp.argmax(logits, axis=-1)  # (B, T)\n",
    "\n",
    "    # compute accuracy over only the last position\n",
    "    is_match = preds == targets\n",
    "\n",
    "    # Accuracy over all positions\n",
    "    acc_all = jnp.mean(is_match.astype(jnp.float32))\n",
    "\n",
    "    # Accuracy over only last position\n",
    "    acc_last = jnp.mean(is_match.astype(jnp.float32)[:,-1])\n",
    "\n",
    "    return loss, {\"loss\": loss, \"acc\": acc_all, \"acc_last\": acc_last}"
   ]
  },
  {
   "cell_type": "markdown",
   "id": "05221147",
   "metadata": {
    "id": "05221147"
   },
   "source": [
    "# Optimization step:"
   ]
  },
  {
   "cell_type": "code",
   "execution_count": 14,
   "id": "b720c846",
   "metadata": {
    "execution": {
     "iopub.execute_input": "2025-10-30T21:40:23.892323Z",
     "iopub.status.busy": "2025-10-30T21:40:23.892091Z",
     "iopub.status.idle": "2025-10-30T21:40:23.905545Z",
     "shell.execute_reply": "2025-10-30T21:40:23.904823Z",
     "shell.execute_reply.started": "2025-10-30T21:40:23.892298Z"
    },
    "id": "b720c846",
    "trusted": true
   },
   "outputs": [],
   "source": [
    "# create an update function\n",
    "def train_step(params, opt_state, x, y, tx):\n",
    "    \"\"\"Single optimization step using optax optimizer.\n",
    "\n",
    "    Args:\n",
    "      params: pytree of model parameters.\n",
    "      opt_state: optax optimizer state corresponding to `params`.\n",
    "      x: (B, T) int array input tokens.\n",
    "      y: (B, T) int array target tokens.\n",
    "      tx: optax.GradientTransformation (already initialized).\n",
    "\n",
    "    Returns:\n",
    "      new_params: updated parameters after one gradient step.\n",
    "      new_opt_state: updated optimizer state.\n",
    "      metrics: dict of scalar metrics (loss, acc).\n",
    "    \"\"\"\n",
    "    def loss_fn(params):\n",
    "        logits = model.apply({\"params\": params}, x)\n",
    "        loss, metrics = loss_and_metrics(logits, y)\n",
    "        return loss, metrics\n",
    "\n",
    "    # compute gradients (loss is scalar, metrics is auxiliary)\n",
    "    (loss, metrics), grads = jax.value_and_grad(loss_fn, has_aux=True)(params)\n",
    "\n",
    "    # optax update: compute parameter updates and new optimizer state\n",
    "    updates, new_opt_state = tx.update(grads, opt_state, params)\n",
    "    new_params = optax.apply_updates(params, updates)\n",
    "    return new_params, new_opt_state, metrics\n",
    "\n",
    "# jit: last argument should be static because it is an object\n",
    "train_step = jax.jit(train_step, static_argnames=(\"tx\",))"
   ]
  },
  {
   "cell_type": "markdown",
   "id": "269d8e59",
   "metadata": {
    "id": "269d8e59"
   },
   "source": [
    "# Batch creation:"
   ]
  },
  {
   "cell_type": "code",
   "execution_count": 15,
   "id": "beb30f4e",
   "metadata": {
    "execution": {
     "iopub.execute_input": "2025-10-30T21:40:23.906499Z",
     "iopub.status.busy": "2025-10-30T21:40:23.906224Z",
     "iopub.status.idle": "2025-10-30T21:40:23.916066Z",
     "shell.execute_reply": "2025-10-30T21:40:23.915317Z",
     "shell.execute_reply.started": "2025-10-30T21:40:23.906483Z"
    },
    "id": "beb30f4e",
    "trusted": true
   },
   "outputs": [],
   "source": [
    "# create a batch from the training data\n",
    "def get_batch(text_int, B, T):\n",
    "    \"\"\"Create a random batch of data from text_int.\n",
    "\n",
    "    Args:\n",
    "      text_int: 1D array of token ids.\n",
    "      B: batch size (number of sequences).\n",
    "      T: sequence length (number of tokens per sequence).\n",
    "\n",
    "    Returns:\n",
    "      x: (B, T) int array input tokens.\n",
    "      y: (B, T) int array target tokens.\n",
    "    \"\"\"\n",
    "    # choose random starting indices for each sequence in the batch\n",
    "    ix = np.random.randint(0, len(text_int) - T, size=B)\n",
    "    # inputs are text from i to i+T\n",
    "    x = np.stack([text_int[i:i+T] for i in ix])\n",
    "    # targets are text from i+1 to i+T+1\n",
    "    y = np.stack([text_int[i+1:i+T+1] for i in ix])\n",
    "    return jnp.array(x, dtype=jnp.int32), jnp.array(y, dtype=jnp.int32)"
   ]
  },
  {
   "cell_type": "markdown",
   "id": "f5da80db",
   "metadata": {
    "id": "f5da80db"
   },
   "source": [
    "# Optimizer creation:"
   ]
  },
  {
   "cell_type": "code",
   "execution_count": 16,
   "id": "340e8a4c",
   "metadata": {
    "colab": {
     "base_uri": "https://localhost:8080/"
    },
    "execution": {
     "iopub.execute_input": "2025-10-30T21:40:23.917077Z",
     "iopub.status.busy": "2025-10-30T21:40:23.916832Z",
     "iopub.status.idle": "2025-10-30T21:40:24.066339Z",
     "shell.execute_reply": "2025-10-30T21:40:24.065519Z",
     "shell.execute_reply.started": "2025-10-30T21:40:23.917056Z"
    },
    "id": "340e8a4c",
    "outputId": "4a97fd8e-b10f-4b29-d4fd-5fb5543ce688",
    "trusted": true
   },
   "outputs": [
    {
     "name": "stdout",
     "output_type": "stream",
     "text": [
      "Initialized optimizer: Adam lr=0.001\n"
     ]
    }
   ],
   "source": [
    "# define optax optimizer\n",
    "learning_rate = 0.001\n",
    "# Create Adam optimizer (Optax)\n",
    "tx = optax.adam(learning_rate=learning_rate)\n",
    "# Initialize optimizer state for current params\n",
    "opt_state = tx.init(params)\n",
    "print(f\"Initialized optimizer: Adam lr={learning_rate}\")\n",
    "\n"
   ]
  },
  {
   "cell_type": "code",
   "execution_count": 17,
   "id": "28f2f1d0",
   "metadata": {
    "colab": {
     "base_uri": "https://localhost:8080/"
    },
    "execution": {
     "iopub.execute_input": "2025-10-30T21:40:24.067454Z",
     "iopub.status.busy": "2025-10-30T21:40:24.067186Z",
     "iopub.status.idle": "2025-10-30T22:06:26.389970Z",
     "shell.execute_reply": "2025-10-30T22:06:26.389154Z",
     "shell.execute_reply.started": "2025-10-30T21:40:24.067427Z"
    },
    "id": "28f2f1d0",
    "outputId": "0cf7e73b-2da4-4744-f245-bb416404f874",
    "trusted": true
   },
   "outputs": [
    {
     "name": "stdout",
     "output_type": "stream",
     "text": [
      "iteration 0  time: 17.3 seconds\n",
      "\t \t loss(train :: test): 3.2960 :: 3.2824\n",
      "\t \t accuracy (train :: test): 2.6% :: 16.9%\n",
      "\t \t accuracy (last character) (train :: test): 3.9% :: 17.7%\n",
      "\n",
      "iteration 2_000  time: 45.9 seconds\n",
      "\t \t loss(train :: test): 1.4628 :: 1.4668\n",
      "\t \t accuracy (train :: test): 54.6% :: 54.9%\n",
      "\t \t accuracy (last character) (train :: test): 54.7% :: 56.2%\n",
      "\n",
      "iteration 4_000  time: 74.2 seconds\n",
      "\t \t loss(train :: test): 1.4221 :: 1.4202\n",
      "\t \t accuracy (train :: test): 56.0% :: 55.8%\n",
      "\t \t accuracy (last character) (train :: test): 54.7% :: 60.1%\n",
      "\n",
      "iteration 6_000  time: 103.9 seconds\n",
      "\t \t loss(train :: test): 1.4306 :: 1.3824\n",
      "\t \t accuracy (train :: test): 55.4% :: 57.0%\n",
      "\t \t accuracy (last character) (train :: test): 53.1% :: 61.1%\n",
      "\n",
      "iteration 8_000  time: 134.9 seconds\n",
      "\t \t loss(train :: test): 1.3769 :: 1.3545\n",
      "\t \t accuracy (train :: test): 57.2% :: 57.6%\n",
      "\t \t accuracy (last character) (train :: test): 53.9% :: 59.9%\n",
      "\n",
      "iteration 10_000  time: 166.1 seconds\n",
      "\t \t loss(train :: test): 1.3145 :: 1.3523\n",
      "\t \t accuracy (train :: test): 58.1% :: 58.0%\n",
      "\t \t accuracy (last character) (train :: test): 64.8% :: 60.8%\n",
      "\n",
      "iteration 12_000  time: 196.8 seconds\n",
      "\t \t loss(train :: test): 1.3272 :: 1.3356\n",
      "\t \t accuracy (train :: test): 58.3% :: 58.3%\n",
      "\t \t accuracy (last character) (train :: test): 58.6% :: 59.7%\n",
      "\n",
      "iteration 14_000  time: 227.8 seconds\n",
      "\t \t loss(train :: test): 1.3255 :: 1.3308\n",
      "\t \t accuracy (train :: test): 58.9% :: 58.3%\n",
      "\t \t accuracy (last character) (train :: test): 64.1% :: 61.8%\n",
      "\n",
      "iteration 16_000  time: 258.8 seconds\n",
      "\t \t loss(train :: test): 1.3320 :: 1.3202\n",
      "\t \t accuracy (train :: test): 58.3% :: 58.7%\n",
      "\t \t accuracy (last character) (train :: test): 59.4% :: 62.7%\n",
      "\n",
      "iteration 18_000  time: 289.7 seconds\n",
      "\t \t loss(train :: test): 1.2877 :: 1.3263\n",
      "\t \t accuracy (train :: test): 59.5% :: 58.6%\n",
      "\t \t accuracy (last character) (train :: test): 59.4% :: 60.9%\n",
      "\n",
      "iteration 20_000  time: 320.7 seconds\n",
      "\t \t loss(train :: test): 1.3312 :: 1.3325\n",
      "\t \t accuracy (train :: test): 57.5% :: 58.6%\n",
      "\t \t accuracy (last character) (train :: test): 55.5% :: 61.7%\n",
      "\n",
      "iteration 22_000  time: 351.7 seconds\n",
      "\t \t loss(train :: test): 1.3041 :: 1.3313\n",
      "\t \t accuracy (train :: test): 58.8% :: 58.3%\n",
      "\t \t accuracy (last character) (train :: test): 68.0% :: 61.0%\n",
      "\n",
      "iteration 24_000  time: 382.6 seconds\n",
      "\t \t loss(train :: test): 1.3174 :: 1.3368\n",
      "\t \t accuracy (train :: test): 58.2% :: 58.1%\n",
      "\t \t accuracy (last character) (train :: test): 60.2% :: 63.3%\n",
      "\n",
      "iteration 26_000  time: 413.6 seconds\n",
      "\t \t loss(train :: test): 1.2827 :: 1.3169\n",
      "\t \t accuracy (train :: test): 59.4% :: 58.9%\n",
      "\t \t accuracy (last character) (train :: test): 62.5% :: 59.7%\n",
      "\n",
      "iteration 28_000  time: 444.6 seconds\n",
      "\t \t loss(train :: test): 1.3077 :: 1.3069\n",
      "\t \t accuracy (train :: test): 59.3% :: 58.7%\n",
      "\t \t accuracy (last character) (train :: test): 69.5% :: 61.6%\n",
      "\n",
      "iteration 30_000  time: 475.6 seconds\n",
      "\t \t loss(train :: test): 1.2766 :: 1.2966\n",
      "\t \t accuracy (train :: test): 60.2% :: 59.2%\n",
      "\t \t accuracy (last character) (train :: test): 63.3% :: 59.5%\n",
      "\n",
      "iteration 32_000  time: 506.6 seconds\n",
      "\t \t loss(train :: test): 1.3085 :: 1.3025\n",
      "\t \t accuracy (train :: test): 59.4% :: 59.2%\n",
      "\t \t accuracy (last character) (train :: test): 68.0% :: 62.6%\n",
      "\n",
      "iteration 34_000  time: 537.6 seconds\n",
      "\t \t loss(train :: test): 1.2542 :: 1.3289\n",
      "\t \t accuracy (train :: test): 60.2% :: 58.5%\n",
      "\t \t accuracy (last character) (train :: test): 62.5% :: 61.2%\n",
      "\n",
      "iteration 36_000  time: 568.7 seconds\n",
      "\t \t loss(train :: test): 1.2574 :: 1.3086\n",
      "\t \t accuracy (train :: test): 60.1% :: 59.0%\n",
      "\t \t accuracy (last character) (train :: test): 64.8% :: 62.5%\n",
      "\n",
      "iteration 38_000  time: 599.7 seconds\n",
      "\t \t loss(train :: test): 1.2607 :: 1.3113\n",
      "\t \t accuracy (train :: test): 60.6% :: 59.0%\n",
      "\t \t accuracy (last character) (train :: test): 60.2% :: 62.0%\n",
      "\n",
      "iteration 40_000  time: 630.7 seconds\n",
      "\t \t loss(train :: test): 1.2807 :: 1.3038\n",
      "\t \t accuracy (train :: test): 60.1% :: 59.0%\n",
      "\t \t accuracy (last character) (train :: test): 67.2% :: 61.0%\n",
      "\n",
      "iteration 42_000  time: 661.7 seconds\n",
      "\t \t loss(train :: test): 1.2870 :: 1.3113\n",
      "\t \t accuracy (train :: test): 60.4% :: 59.0%\n",
      "\t \t accuracy (last character) (train :: test): 64.1% :: 61.7%\n",
      "\n",
      "iteration 44_000  time: 692.8 seconds\n",
      "\t \t loss(train :: test): 1.3065 :: 1.3029\n",
      "\t \t accuracy (train :: test): 58.0% :: 58.9%\n",
      "\t \t accuracy (last character) (train :: test): 56.2% :: 62.7%\n",
      "\n",
      "iteration 46_000  time: 723.8 seconds\n",
      "\t \t loss(train :: test): 1.2793 :: 1.3008\n",
      "\t \t accuracy (train :: test): 60.1% :: 58.8%\n",
      "\t \t accuracy (last character) (train :: test): 67.2% :: 59.2%\n",
      "\n",
      "iteration 48_000  time: 754.9 seconds\n",
      "\t \t loss(train :: test): 1.2720 :: 1.2936\n",
      "\t \t accuracy (train :: test): 59.3% :: 59.4%\n",
      "\t \t accuracy (last character) (train :: test): 64.8% :: 63.0%\n",
      "\n",
      "iteration 50_000  time: 785.9 seconds\n",
      "\t \t loss(train :: test): 1.2584 :: 1.3071\n",
      "\t \t accuracy (train :: test): 60.3% :: 59.2%\n",
      "\t \t accuracy (last character) (train :: test): 59.4% :: 63.1%\n",
      "\n",
      "iteration 52_000  time: 817.0 seconds\n",
      "\t \t loss(train :: test): 1.2710 :: 1.3080\n",
      "\t \t accuracy (train :: test): 60.0% :: 59.1%\n",
      "\t \t accuracy (last character) (train :: test): 63.3% :: 62.8%\n",
      "\n",
      "iteration 54_000  time: 848.0 seconds\n",
      "\t \t loss(train :: test): 1.2268 :: 1.2986\n",
      "\t \t accuracy (train :: test): 61.4% :: 59.4%\n",
      "\t \t accuracy (last character) (train :: test): 61.7% :: 62.1%\n",
      "\n",
      "iteration 56_000  time: 879.0 seconds\n",
      "\t \t loss(train :: test): 1.2647 :: 1.3135\n",
      "\t \t accuracy (train :: test): 59.7% :: 58.9%\n",
      "\t \t accuracy (last character) (train :: test): 64.8% :: 61.6%\n",
      "\n",
      "iteration 58_000  time: 910.0 seconds\n",
      "\t \t loss(train :: test): 1.3616 :: 1.2767\n",
      "\t \t accuracy (train :: test): 57.5% :: 59.8%\n",
      "\t \t accuracy (last character) (train :: test): 54.7% :: 63.6%\n",
      "\n",
      "iteration 60_000  time: 940.9 seconds\n",
      "\t \t loss(train :: test): 1.2578 :: 1.2912\n",
      "\t \t accuracy (train :: test): 60.1% :: 59.6%\n",
      "\t \t accuracy (last character) (train :: test): 60.9% :: 66.1%\n",
      "\n",
      "iteration 62_000  time: 972.0 seconds\n",
      "\t \t loss(train :: test): 1.3149 :: 1.2970\n",
      "\t \t accuracy (train :: test): 58.8% :: 59.4%\n",
      "\t \t accuracy (last character) (train :: test): 64.8% :: 64.5%\n",
      "\n",
      "iteration 64_000  time: 1003.0 seconds\n",
      "\t \t loss(train :: test): 1.3095 :: 1.3059\n",
      "\t \t accuracy (train :: test): 58.2% :: 59.1%\n",
      "\t \t accuracy (last character) (train :: test): 59.4% :: 64.2%\n",
      "\n",
      "iteration 66_000  time: 1034.1 seconds\n",
      "\t \t loss(train :: test): 1.2490 :: 1.3137\n",
      "\t \t accuracy (train :: test): 60.4% :: 59.0%\n",
      "\t \t accuracy (last character) (train :: test): 60.2% :: 63.1%\n",
      "\n",
      "iteration 68_000  time: 1065.1 seconds\n",
      "\t \t loss(train :: test): 1.2599 :: 1.2857\n",
      "\t \t accuracy (train :: test): 60.3% :: 59.9%\n",
      "\t \t accuracy (last character) (train :: test): 67.2% :: 63.5%\n",
      "\n",
      "iteration 70_000  time: 1096.1 seconds\n",
      "\t \t loss(train :: test): 1.2630 :: 1.2919\n",
      "\t \t accuracy (train :: test): 59.8% :: 59.3%\n",
      "\t \t accuracy (last character) (train :: test): 64.1% :: 62.8%\n",
      "\n",
      "iteration 72_000  time: 1127.1 seconds\n",
      "\t \t loss(train :: test): 1.2881 :: 1.2933\n",
      "\t \t accuracy (train :: test): 58.9% :: 59.5%\n",
      "\t \t accuracy (last character) (train :: test): 66.4% :: 64.2%\n",
      "\n",
      "iteration 74_000  time: 1158.1 seconds\n",
      "\t \t loss(train :: test): 1.2715 :: 1.3072\n",
      "\t \t accuracy (train :: test): 59.5% :: 59.0%\n",
      "\t \t accuracy (last character) (train :: test): 61.7% :: 60.2%\n",
      "\n",
      "iteration 76_000  time: 1189.1 seconds\n",
      "\t \t loss(train :: test): 1.2894 :: 1.3023\n",
      "\t \t accuracy (train :: test): 59.1% :: 59.2%\n",
      "\t \t accuracy (last character) (train :: test): 58.6% :: 62.6%\n",
      "\n",
      "iteration 78_000  time: 1220.2 seconds\n",
      "\t \t loss(train :: test): 1.2835 :: 1.2942\n",
      "\t \t accuracy (train :: test): 58.2% :: 59.3%\n",
      "\t \t accuracy (last character) (train :: test): 60.2% :: 61.4%\n",
      "\n",
      "iteration 80_000  time: 1251.2 seconds\n",
      "\t \t loss(train :: test): 1.2671 :: 1.2757\n",
      "\t \t accuracy (train :: test): 59.6% :: 59.6%\n",
      "\t \t accuracy (last character) (train :: test): 62.5% :: 63.5%\n",
      "\n",
      "iteration 82_000  time: 1282.1 seconds\n",
      "\t \t loss(train :: test): 1.2572 :: 1.2808\n",
      "\t \t accuracy (train :: test): 60.4% :: 59.7%\n",
      "\t \t accuracy (last character) (train :: test): 69.5% :: 63.7%\n",
      "\n",
      "iteration 84_000  time: 1313.0 seconds\n",
      "\t \t loss(train :: test): 1.2662 :: 1.3057\n",
      "\t \t accuracy (train :: test): 60.0% :: 59.1%\n",
      "\t \t accuracy (last character) (train :: test): 64.8% :: 58.8%\n",
      "\n",
      "iteration 86_000  time: 1343.9 seconds\n",
      "\t \t loss(train :: test): 1.2281 :: 1.2927\n",
      "\t \t accuracy (train :: test): 60.8% :: 59.4%\n",
      "\t \t accuracy (last character) (train :: test): 63.3% :: 61.9%\n",
      "\n",
      "iteration 88_000  time: 1374.9 seconds\n",
      "\t \t loss(train :: test): 1.2357 :: 1.2945\n",
      "\t \t accuracy (train :: test): 59.5% :: 59.4%\n",
      "\t \t accuracy (last character) (train :: test): 59.4% :: 63.7%\n",
      "\n",
      "iteration 90_000  time: 1405.9 seconds\n",
      "\t \t loss(train :: test): 1.2508 :: 1.2794\n",
      "\t \t accuracy (train :: test): 60.4% :: 59.8%\n",
      "\t \t accuracy (last character) (train :: test): 52.3% :: 64.3%\n",
      "\n",
      "iteration 92_000  time: 1436.8 seconds\n",
      "\t \t loss(train :: test): 1.2513 :: 1.2945\n",
      "\t \t accuracy (train :: test): 60.8% :: 59.3%\n",
      "\t \t accuracy (last character) (train :: test): 59.4% :: 64.2%\n",
      "\n",
      "iteration 94_000  time: 1467.8 seconds\n",
      "\t \t loss(train :: test): 1.3341 :: 1.3005\n",
      "\t \t accuracy (train :: test): 57.9% :: 59.0%\n",
      "\t \t accuracy (last character) (train :: test): 58.6% :: 61.6%\n",
      "\n",
      "iteration 96_000  time: 1498.8 seconds\n",
      "\t \t loss(train :: test): 1.2777 :: 1.2874\n",
      "\t \t accuracy (train :: test): 59.4% :: 59.7%\n",
      "\t \t accuracy (last character) (train :: test): 59.4% :: 62.2%\n",
      "\n",
      "iteration 98_000  time: 1529.8 seconds\n",
      "\t \t loss(train :: test): 1.2801 :: 1.2884\n",
      "\t \t accuracy (train :: test): 60.2% :: 59.6%\n",
      "\t \t accuracy (last character) (train :: test): 59.4% :: 62.9%\n",
      "\n",
      "iteration 99_999  time: 1560.7 seconds\n",
      "\t \t loss(train :: test): 1.2242 :: 1.2898\n",
      "\t \t accuracy (train :: test): 60.7% :: 59.6%\n",
      "\t \t accuracy (last character) (train :: test): 64.1% :: 62.3%\n",
      "\n"
     ]
    }
   ],
   "source": [
    "niter = 100_000\n",
    "B, T = 128, 32\n",
    "loss_history = []\n",
    "time_history = []\n",
    "time_test_history = []\n",
    "loss_test_history = []\n",
    "time_start = time.time()\n",
    "for it in range(niter):\n",
    "    batch = get_batch(train_text_int, B, T)\n",
    "    input, target = batch[0], batch[1]\n",
    "    params_new, opt_state_new, metrics = train_step(params, opt_state, input, target, tx)\n",
    "\n",
    "    # update params and opt_state\n",
    "    params = params_new\n",
    "    opt_state = opt_state_new\n",
    "    acc = metrics['acc']\n",
    "    acc_last = metrics['acc_last']\n",
    "    loss = metrics['loss']\n",
    "\n",
    "    loss_history.append(loss)\n",
    "    time_history.append(time.time() - time_start)\n",
    "\n",
    "    if it % (niter // 50) == 0 or it == niter - 1:\n",
    "        time_since_start = time.time() - time_start\n",
    "        # compute loss on test set\n",
    "        B_test, T_test = 1024, 32\n",
    "        test_batch = get_batch(test_text_int, B_test, T_test)\n",
    "        test_input, test_target = test_batch[0], test_batch[1]\n",
    "        test_logits = model.apply({\"params\": params}, test_input)\n",
    "        test_loss, test_metrics = loss_and_metrics(test_logits, test_target)\n",
    "        test_acc = test_metrics['acc']\n",
    "        test_acc_last = test_metrics['acc_last']\n",
    "        loss_test_history.append(test_loss)\n",
    "        time_test_history.append(time_since_start)\n",
    "        print(f\"iteration {it:_}  time: {time_since_start:.1f} seconds\")\n",
    "        print(f\"\\t \\t loss(train :: test): {loss:.4f} :: {test_loss:.4f}\")\n",
    "        print(f\"\\t \\t accuracy (train :: test): {100*acc:.1f}% :: {100*test_acc:.1f}%\")\n",
    "        print(f\"\\t \\t accuracy (last character) (train :: test): {100*acc_last:.1f}% :: {100*test_acc_last:.1f}%\")\n",
    "        print()\n"
   ]
  },
  {
   "cell_type": "code",
   "execution_count": 18,
   "id": "217fb628",
   "metadata": {
    "colab": {
     "base_uri": "https://localhost:8080/",
     "height": 472
    },
    "execution": {
     "iopub.execute_input": "2025-10-30T22:06:26.391186Z",
     "iopub.status.busy": "2025-10-30T22:06:26.390914Z",
     "iopub.status.idle": "2025-10-30T22:06:43.025701Z",
     "shell.execute_reply": "2025-10-30T22:06:43.024979Z",
     "shell.execute_reply.started": "2025-10-30T22:06:26.391160Z"
    },
    "id": "217fb628",
    "outputId": "ac4251cc-590b-4faf-c04f-1519e365cbe0",
    "trusted": true
   },
   "outputs": [
    {
     "data": {
      "image/png": "[encoded data removed]",
      "text/plain": [
       "<Figure size 640x480 with 1 Axes>"
      ]
     },
     "metadata": {},
     "output_type": "display_data"
    }
   ],
   "source": [
    "# plot the loss history\n",
    "import matplotlib.pyplot as plt\n",
    "plt.plot(time_history, loss_history, '-', label='train', color=\"blue\")\n",
    "plt.plot(time_test_history, loss_test_history, '-', label='test', lw=2, color=\"red\")\n",
    "plt.xlabel(\"Time (seconds)\")\n",
    "plt.ylabel(\"Loss\")\n",
    "plt.legend(loc='upper right')\n",
    "plt.title(\"Training Loss History\")\n",
    "plt.grid()"
   ]
  },
  {
   "cell_type": "code",
   "execution_count": 19,
   "id": "fbb0b0d1",
   "metadata": {
    "colab": {
     "base_uri": "https://localhost:8080/"
    },
    "execution": {
     "iopub.execute_input": "2025-10-30T22:06:43.026755Z",
     "iopub.status.busy": "2025-10-30T22:06:43.026513Z",
     "iopub.status.idle": "2025-10-30T22:06:43.033109Z",
     "shell.execute_reply": "2025-10-30T22:06:43.032332Z",
     "shell.execute_reply.started": "2025-10-30T22:06:43.026731Z"
    },
    "id": "fbb0b0d1",
    "outputId": "03cfe491-6885-4ba3-bb24-5657bfa6dd1c",
    "trusted": true
   },
   "outputs": [
    {
     "name": "stdout",
     "output_type": "stream",
     "text": [
      "Generation skipped for lstm model.\n",
      "LSTM model trained successfully. Check test accuracy above.\n"
     ]
    }
   ],
   "source": [
    "# Generation (only works with transformer)\n",
    "if model_type == \"transformer\":\n",
    "    B = 1\n",
    "    seed = 42\n",
    "    rng = jax.random.PRNGKey(seed)\n",
    "    prompt = \"hello my fri\"\n",
    "    # prompt_int = encode(prompt.lower())\n",
    "    prompt_int = jnp.array([ [char_to_int.get(c, len(char_set)) for c in prompt.lower()[:64]] ], dtype=jnp.int32)\n",
    "    gen_len = 1000\n",
    "    out_ids = generation.generate_tokens(model, params, rng, prompt_int, gen_len, block_size=64, temperature=0.7, sample=True)\n",
    "    print('generated ids shape:', out_ids.shape)\n",
    "    print('generated text:')\n",
    "    generated_text = ''.join(int_to_char.get(int(x), '?') for x in list(out_ids[0]))\n",
    "    # concatenate with prompt\n",
    "    print(prompt + generated_text)\n",
    "else:\n",
    "    print(f\"Generation skipped for {model_type} model.\")\n",
    "    print(\"LSTM model trained successfully. Check test accuracy above.\")"
   ]
  }
 ],
 "metadata": {
  "accelerator": "TPU",
  "colab": {
   "gpuType": "V5E1",
   "provenance": []
  },
  "kaggle": {
   "accelerator": "nvidiaTeslaT4",
   "dataSources": [],
   "dockerImageVersionId": 31154,
   "isGpuEnabled": true,
   "isInternetEnabled": true,
   "language": "python",
   "sourceType": "notebook"
  },
  "kernelspec": {
   "display_name": "Python 3",
   "language": "python",
   "name": "python3"
  },
  "language_info": {
   "codemirror_mode": {
    "name": "ipython",
    "version": 3
   },
   "file_extension": ".py",
   "mimetype": "text/x-python",
   "name": "python",
   "nbconvert_exporter": "python",
   "pygments_lexer": "ipython3",
   "version": "3.11.13"
  }
 },
 "nbformat": 4,
 "nbformat_minor": 5
}
