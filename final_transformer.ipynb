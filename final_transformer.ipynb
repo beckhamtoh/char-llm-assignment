{
 "cells": [
  {
   "cell_type": "code",
   "execution_count": 1,
   "id": "LNS1ztqUUrw7",
   "metadata": {
    "colab": {
     "base_uri": "https://localhost:8080/"
    },
    "execution": {
     "iopub.execute_input": "2025-11-01T16:11:00.338069Z",
     "iopub.status.busy": "2025-11-01T16:11:00.337852Z",
     "iopub.status.idle": "2025-11-01T16:11:03.891202Z",
     "shell.execute_reply": "2025-11-01T16:11:03.890315Z",
     "shell.execute_reply.started": "2025-11-01T16:11:00.338047Z"
    },
    "id": "LNS1ztqUUrw7",
    "outputId": "21ffc255-cbb8-406b-e302-508d14d5848f",
    "trusted": true
   },
   "outputs": [
    {
     "name": "stdout",
     "output_type": "stream",
     "text": [
      "Cloning into 'char-llm-assignment'...\n",
      "remote: Enumerating objects: 151, done.\u001b[K\n",
      "remote: Counting objects: 100% (151/151), done.\u001b[K\n",
      "remote: Compressing objects: 100% (102/102), done.\u001b[K\n",
      "remote: Total 151 (delta 70), reused 110 (delta 36), pack-reused 0 (from 0)\u001b[K\n",
      "Receiving objects: 100% (151/151), 31.87 MiB | 21.27 MiB/s, done.\n",
      "Resolving deltas: 100% (70/70), done.\n",
      "/kaggle/working/char-llm-assignment\n"
     ]
    }
   ],
   "source": [
    "!git clone https://github.com/beckhamtoh/char-llm-assignment.git\n",
    "%cd char-llm-assignment"
   ]
  },
  {
   "cell_type": "code",
   "execution_count": 2,
   "id": "e2def0f4",
   "metadata": {
    "execution": {
     "iopub.execute_input": "2025-11-01T16:11:03.892500Z",
     "iopub.status.busy": "2025-11-01T16:11:03.892216Z",
     "iopub.status.idle": "2025-11-01T16:11:03.896932Z",
     "shell.execute_reply": "2025-11-01T16:11:03.896072Z",
     "shell.execute_reply.started": "2025-11-01T16:11:03.892471Z"
    },
    "id": "e2def0f4",
    "trusted": true
   },
   "outputs": [],
   "source": [
    "# Enable autoreload of local Python modules (e.g., models)\n",
    "# %load_ext autoreload\n",
    "# %autoreload 2\n",
    "\n",
    "# manual reload for local modules\n",
    "import importlib"
   ]
  },
  {
   "cell_type": "code",
   "execution_count": 3,
   "id": "d5001b05",
   "metadata": {
    "execution": {
     "iopub.execute_input": "2025-11-01T16:11:03.899415Z",
     "iopub.status.busy": "2025-11-01T16:11:03.899167Z",
     "iopub.status.idle": "2025-11-01T16:11:06.275538Z",
     "shell.execute_reply": "2025-11-01T16:11:06.274979Z",
     "shell.execute_reply.started": "2025-11-01T16:11:03.899395Z"
    },
    "id": "d5001b05",
    "trusted": true
   },
   "outputs": [],
   "source": [
    "import os\n",
    "os.environ[\"CUDA_VISIBLE_DEVICES\"] = \"0\"\n",
    "\n",
    "import numpy as np\n",
    "import jax\n",
    "import jax.numpy as jnp\n",
    "import optax\n",
    "import time\n",
    "\n",
    "# local imports\n",
    "import models.models as models\n",
    "import util.generation as generation\n"
   ]
  },
  {
   "cell_type": "code",
   "execution_count": 4,
   "id": "906db4f2",
   "metadata": {
    "execution": {
     "iopub.execute_input": "2025-11-01T16:11:06.276548Z",
     "iopub.status.busy": "2025-11-01T16:11:06.276210Z",
     "iopub.status.idle": "2025-11-01T16:11:07.771361Z",
     "shell.execute_reply": "2025-11-01T16:11:07.770799Z",
     "shell.execute_reply.started": "2025-11-01T16:11:06.276520Z"
    },
    "id": "906db4f2",
    "trusted": true
   },
   "outputs": [
    {
     "name": "stderr",
     "output_type": "stream",
     "text": [
      "INFO:2025-11-01 16:11:06,829:jax._src.xla_bridge:924: Unable to initialize backend 'rocm': module 'jaxlib.xla_extension' has no attribute 'GpuAllocatorConfig'\n",
      "INFO:2025-11-01 16:11:06,839:jax._src.xla_bridge:924: Unable to initialize backend 'tpu': INTERNAL: Failed to open libtpu.so: libtpu.so: cannot open shared object file: No such file or directory\n"
     ]
    }
   ],
   "source": [
    "# initialize the jax random key\n",
    "key = jax.random.key(0)"
   ]
  },
  {
   "cell_type": "markdown",
   "id": "762a1c8f",
   "metadata": {
    "id": "762a1c8f"
   },
   "source": [
    "# Load data"
   ]
  },
  {
   "cell_type": "code",
   "execution_count": 5,
   "id": "86825275",
   "metadata": {
    "colab": {
     "base_uri": "https://localhost:8080/"
    },
    "execution": {
     "iopub.execute_input": "2025-11-01T16:11:07.772253Z",
     "iopub.status.busy": "2025-11-01T16:11:07.772063Z",
     "iopub.status.idle": "2025-11-01T16:11:07.932011Z",
     "shell.execute_reply": "2025-11-01T16:11:07.931318Z",
     "shell.execute_reply.started": "2025-11-01T16:11:07.772237Z"
    },
    "id": "86825275",
    "outputId": "51b635db-0434-44d4-ccc9-aa0b1093834e",
    "trusted": true
   },
   "outputs": [
    {
     "name": "stdout",
     "output_type": "stream",
     "text": [
      "Length of training text: 90_000_000 characters\n",
      "Length of test text: 5_000_000 characters\n"
     ]
    }
   ],
   "source": [
    "# load the ./data/text8_train.txt and ./data/text8_test.txt files\n",
    "with open(\"./data/text8_train.txt\", \"r\") as f:\n",
    "    train_text = f.read()\n",
    "with open(\"./data/text8_test.txt\", \"r\") as f:\n",
    "    test_text = f.read()\n",
    "\n",
    "# print the length of the training text and test text\n",
    "print(f\"Length of training text: {len(train_text):_} characters\")\n",
    "print(f\"Length of test text: {len(test_text):_} characters\")"
   ]
  },
  {
   "cell_type": "markdown",
   "id": "7bfdca63",
   "metadata": {
    "id": "7bfdca63"
   },
   "source": []
  },
  {
   "cell_type": "code",
   "execution_count": 6,
   "id": "34b1eafe",
   "metadata": {
    "execution": {
     "iopub.execute_input": "2025-11-01T16:11:07.932943Z",
     "iopub.status.busy": "2025-11-01T16:11:07.932690Z",
     "iopub.status.idle": "2025-11-01T16:11:07.937787Z",
     "shell.execute_reply": "2025-11-01T16:11:07.937095Z",
     "shell.execute_reply.started": "2025-11-01T16:11:07.932924Z"
    },
    "id": "34b1eafe",
    "trusted": true
   },
   "outputs": [],
   "source": [
    "# Build vocabulary (lowercase + space + a few punctuations)\n",
    "char_set = list(\"abcdefghijklmnopqrstuvwxyz \")\n",
    "char_to_int = {ch:i for i,ch in enumerate(char_set)}\n",
    "int_to_char = {i:ch for ch,i in char_to_int.items()}\n",
    "\n",
    "def encode(s):\n",
    "    \"\"\"Encode string to array of integers\"\"\"\n",
    "    ids = [char_to_int[c] for c in s]\n",
    "    return np.array(ids, dtype=np.uint8)  # use np.uint8 to save space"
   ]
  },
  {
   "cell_type": "code",
   "execution_count": 7,
   "id": "42b5af70",
   "metadata": {
    "execution": {
     "iopub.execute_input": "2025-11-01T16:11:07.938868Z",
     "iopub.status.busy": "2025-11-01T16:11:07.938555Z",
     "iopub.status.idle": "2025-11-01T16:11:15.784435Z",
     "shell.execute_reply": "2025-11-01T16:11:15.783782Z",
     "shell.execute_reply.started": "2025-11-01T16:11:07.938845Z"
    },
    "id": "42b5af70",
    "trusted": true
   },
   "outputs": [],
   "source": [
    "# encode the text\n",
    "train_text_int = encode(train_text)\n",
    "test_text_int = encode(test_text)"
   ]
  },
  {
   "cell_type": "code",
   "execution_count": 8,
   "id": "6458536d",
   "metadata": {
    "colab": {
     "base_uri": "https://localhost:8080/"
    },
    "execution": {
     "iopub.execute_input": "2025-11-01T16:11:15.785444Z",
     "iopub.status.busy": "2025-11-01T16:11:15.785230Z",
     "iopub.status.idle": "2025-11-01T16:11:15.790183Z",
     "shell.execute_reply": "2025-11-01T16:11:15.789414Z",
     "shell.execute_reply.started": "2025-11-01T16:11:15.785427Z"
    },
    "id": "6458536d",
    "outputId": "f7572de8-c91b-4039-cedd-c6aab21535c1",
    "trusted": true
   },
   "outputs": [
    {
     "name": "stdout",
     "output_type": "stream",
     "text": [
      "or olio that wad staw a sow or fricassee wad mak her spew wi perfect scunner looks down wi sneering scornfu view on sic a dinner\n",
      "\n",
      "e era he wished to go in the end the very place nobita wanted to go is heaven however the plausibility of the issues was discuss\n",
      "\n",
      "wo zero zero four world english bibliography from a bibliography of literary theory criticism and philology one zero th ed unive\n",
      "\n",
      "nown as iodized salt iodine deficiency is the leading cause of preventable mental retardation iodine deficency remains a serious\n",
      "\n",
      "eight three to early one nine eight four adventure international employed approximately five zero individuals and published titl\n",
      "\n"
     ]
    }
   ],
   "source": [
    "# sanity check: display a few random characters from the training text\n",
    "T = 128\n",
    "for _ in range(5):\n",
    "    # choose random position in text\n",
    "    N = np.random.randint(low=0, high=len(train_text)-T)\n",
    "    print(train_text[N:N+T])\n",
    "    print()"
   ]
  },
  {
   "cell_type": "markdown",
   "id": "7724c34b",
   "metadata": {
    "id": "7724c34b"
   },
   "source": [
    "# Create a basic Transformer model"
   ]
  },
  {
   "cell_type": "code",
   "execution_count": 9,
   "id": "f5955c3f",
   "metadata": {
    "execution": {
     "iopub.execute_input": "2025-11-01T16:11:15.792688Z",
     "iopub.status.busy": "2025-11-01T16:11:15.792430Z",
     "iopub.status.idle": "2025-11-01T16:11:15.803790Z",
     "shell.execute_reply": "2025-11-01T16:11:15.802967Z",
     "shell.execute_reply.started": "2025-11-01T16:11:15.792673Z"
    },
    "id": "f5955c3f",
    "trusted": true
   },
   "outputs": [],
   "source": [
    "def create_train_state(rng, vocab_size=27, d_model=64, n_layers=6, n_heads=8, max_len=128):\n",
    "    # create a basic Transformer model\n",
    "    model = models.DecoderOnlyTransformer(vocab_size, d_model, n_layers, n_heads, max_len)\n",
    "    # create a dummy input for initialization\n",
    "    dummy = jnp.zeros((1, min(16, max_len)), dtype=jnp.int32)\n",
    "    # pass the dummy input to the model to initialize the parameters\n",
    "    params = model.init({\"params\": rng}, dummy)[\"params\"]\n",
    "    return model, params"
   ]
  },
  {
   "cell_type": "code",
   "execution_count": 10,
   "id": "c3ea2291",
   "metadata": {
    "execution": {
     "iopub.execute_input": "2025-11-01T16:11:15.805141Z",
     "iopub.status.busy": "2025-11-01T16:11:15.804657Z",
     "iopub.status.idle": "2025-11-01T16:11:21.247641Z",
     "shell.execute_reply": "2025-11-01T16:11:21.247055Z",
     "shell.execute_reply.started": "2025-11-01T16:11:15.805119Z"
    },
    "id": "c3ea2291",
    "trusted": true
   },
   "outputs": [],
   "source": [
    "# vocab size\n",
    "vocab_size= len(char_set)\n",
    "\n",
    "# internal model dimensions\n",
    "d_model=256\n",
    "\n",
    "# number of attention heads\n",
    "n_heads=4\n",
    "\n",
    "# number of Transformer layers\n",
    "n_layers=4\n",
    "\n",
    "# maximum sequence length\n",
    "max_len=128\n",
    "\n",
    "model, params = create_train_state(key, vocab_size, d_model, n_layers, n_heads, max_len)"
   ]
  },
  {
   "cell_type": "code",
   "execution_count": 11,
   "id": "c067e140",
   "metadata": {
    "colab": {
     "base_uri": "https://localhost:8080/"
    },
    "execution": {
     "iopub.execute_input": "2025-11-01T16:11:21.248678Z",
     "iopub.status.busy": "2025-11-01T16:11:21.248399Z",
     "iopub.status.idle": "2025-11-01T16:11:21.253680Z",
     "shell.execute_reply": "2025-11-01T16:11:21.252903Z",
     "shell.execute_reply.started": "2025-11-01T16:11:21.248652Z"
    },
    "id": "c067e140",
    "outputId": "93b52b7a-849a-4ef0-d784-6196a8832d50",
    "trusted": true
   },
   "outputs": [
    {
     "name": "stdout",
     "output_type": "stream",
     "text": [
      "Number of parameters: 3_202_048\n"
     ]
    }
   ],
   "source": [
    "# compute the number of parameters\n",
    "def count_params(params):\n",
    "    return sum(x.size for x in jax.tree_util.tree_leaves(params))\n",
    "print(f\"Number of parameters: {count_params(params):_}\")"
   ]
  },
  {
   "cell_type": "code",
   "execution_count": 12,
   "id": "52231d73",
   "metadata": {
    "colab": {
     "base_uri": "https://localhost:8080/"
    },
    "execution": {
     "iopub.execute_input": "2025-11-01T16:11:21.254749Z",
     "iopub.status.busy": "2025-11-01T16:11:21.254470Z",
     "iopub.status.idle": "2025-11-01T16:11:24.016063Z",
     "shell.execute_reply": "2025-11-01T16:11:24.015316Z",
     "shell.execute_reply.started": "2025-11-01T16:11:21.254726Z"
    },
    "id": "52231d73",
    "outputId": "07cd9c86-6d8a-45d4-b7c6-497aa701c004",
    "trusted": true
   },
   "outputs": [
    {
     "name": "stdout",
     "output_type": "stream",
     "text": [
      "batch shape: (4, 32)\n",
      "logits shape: (4, 32, 27)\n"
     ]
    }
   ],
   "source": [
    "# sanity check: create a batch of data & run a forward pass\n",
    "B, T = 4, 32\n",
    "batch = jax.random.randint(\n",
    "    key=key,\n",
    "    shape=(B, T), minval=0, maxval=len(char_set))\n",
    "logits = model.apply({\"params\": params}, batch)\n",
    "\n",
    "print(\"batch shape:\", batch.shape)  # (B, T)\n",
    "print(\"logits shape:\", logits.shape)  # (B, T, vocab_size)"
   ]
  },
  {
   "cell_type": "markdown",
   "id": "b0213425",
   "metadata": {
    "id": "b0213425"
   },
   "source": [
    "# Loss function"
   ]
  },
  {
   "cell_type": "code",
   "execution_count": 13,
   "id": "ab7a3479",
   "metadata": {
    "execution": {
     "iopub.execute_input": "2025-11-01T16:11:24.017012Z",
     "iopub.status.busy": "2025-11-01T16:11:24.016809Z",
     "iopub.status.idle": "2025-11-01T16:11:24.022975Z",
     "shell.execute_reply": "2025-11-01T16:11:24.022109Z",
     "shell.execute_reply.started": "2025-11-01T16:11:24.016996Z"
    },
    "id": "ab7a3479",
    "trusted": true
   },
   "outputs": [],
   "source": [
    "@jax.jit\n",
    "def loss_and_metrics(logits, targets, last_token_only = False):\n",
    "    \"\"\"Compute cross-entropy loss and accuracy.\n",
    "\n",
    "    Args:\n",
    "      logits: (B, T, V) float array of unnormalized scores.\n",
    "      targets: (B, T) integer array with ground-truth class ids.\n",
    "      last_token_only: If True, compute loss only on the last token position.\n",
    "\n",
    "    Returns:\n",
    "      loss: scalar average cross-entropy.\n",
    "      metrics: dict with keys \"loss\", \"acc\", and \"acc_last\".\n",
    "    \"\"\"\n",
    "    vocab = logits.shape[-1]\n",
    "    flat_logits = logits.reshape(-1, vocab)\n",
    "    flat_targets = targets.reshape(-1)\n",
    "\n",
    "    # Compute per-position cross-entropy\n",
    "    per_pos = optax.softmax_cross_entropy_with_integer_labels(flat_logits, flat_targets)\n",
    "    \n",
    "    if last_token_only:\n",
    "        # Reshape back to (B, T) and take only last token\n",
    "        per_pos = per_pos.reshape(targets.shape)  # (B, T)\n",
    "        loss = per_pos[:, -1].mean()  # Average over batch, last position only\n",
    "    else:\n",
    "        # Original behavior: average over all positions\n",
    "        loss = per_pos.mean()\n",
    "\n",
    "    # Predictions and accuracy (unchanged)\n",
    "    preds = jnp.argmax(logits, axis=-1)\n",
    "    is_match = preds == targets\n",
    "    acc_all = jnp.mean(is_match.astype(jnp.float32))\n",
    "    acc_last = jnp.mean(is_match[:, -1].astype(jnp.float32))\n",
    "\n",
    "    return loss, {\"loss\": loss, \"acc\": acc_all, \"acc_last\": acc_last}"
   ]
  },
  {
   "cell_type": "markdown",
   "id": "05221147",
   "metadata": {
    "id": "05221147"
   },
   "source": [
    "# Optimization step:"
   ]
  },
  {
   "cell_type": "code",
   "execution_count": 14,
   "id": "b720c846",
   "metadata": {
    "execution": {
     "iopub.execute_input": "2025-11-01T16:11:24.024723Z",
     "iopub.status.busy": "2025-11-01T16:11:24.024198Z",
     "iopub.status.idle": "2025-11-01T16:11:24.039393Z",
     "shell.execute_reply": "2025-11-01T16:11:24.038713Z",
     "shell.execute_reply.started": "2025-11-01T16:11:24.024681Z"
    },
    "id": "b720c846",
    "trusted": true
   },
   "outputs": [],
   "source": [
    "# create an update function\n",
    "def train_step(params, opt_state, x, y, tx):\n",
    "    \"\"\"Single optimization step using optax optimizer.\n",
    "\n",
    "    Args:\n",
    "      params: pytree of model parameters.\n",
    "      opt_state: optax optimizer state corresponding to `params`.\n",
    "      x: (B, T) int array input tokens.\n",
    "      y: (B, T) int array target tokens.\n",
    "      tx: optax.GradientTransformation (already initialized).\n",
    "\n",
    "    Returns:\n",
    "      new_params: updated parameters after one gradient step.\n",
    "      new_opt_state: updated optimizer state.\n",
    "      metrics: dict of scalar metrics (loss, acc).\n",
    "    \"\"\"\n",
    "    def loss_fn(params):\n",
    "        logits = model.apply({\"params\": params}, x)\n",
    "        loss, metrics = loss_and_metrics(logits, y)\n",
    "        return loss, metrics\n",
    "\n",
    "    # compute gradients (loss is scalar, metrics is auxiliary)\n",
    "    (loss, metrics), grads = jax.value_and_grad(loss_fn, has_aux=True)(params)\n",
    "\n",
    "    # optax update: compute parameter updates and new optimizer state\n",
    "    updates, new_opt_state = tx.update(grads, opt_state, params)\n",
    "    new_params = optax.apply_updates(params, updates)\n",
    "    return new_params, new_opt_state, metrics\n",
    "\n",
    "# jit: last argument should be static because it is an object\n",
    "train_step = jax.jit(train_step, static_argnames=(\"tx\",))"
   ]
  },
  {
   "cell_type": "markdown",
   "id": "269d8e59",
   "metadata": {
    "id": "269d8e59"
   },
   "source": [
    "# Batch creation:"
   ]
  },
  {
   "cell_type": "code",
   "execution_count": 15,
   "id": "beb30f4e",
   "metadata": {
    "execution": {
     "iopub.execute_input": "2025-11-01T16:11:24.040438Z",
     "iopub.status.busy": "2025-11-01T16:11:24.040213Z",
     "iopub.status.idle": "2025-11-01T16:11:24.053524Z",
     "shell.execute_reply": "2025-11-01T16:11:24.052939Z",
     "shell.execute_reply.started": "2025-11-01T16:11:24.040412Z"
    },
    "id": "beb30f4e",
    "trusted": true
   },
   "outputs": [],
   "source": [
    "# create a batch from the training data\n",
    "def get_batch(text_int, B, T):\n",
    "    \"\"\"Create a random batch of data from text_int.\n",
    "\n",
    "    Args:\n",
    "      text_int: 1D array of token ids.\n",
    "      B: batch size (number of sequences).\n",
    "      T: sequence length (number of tokens per sequence).\n",
    "\n",
    "    Returns:\n",
    "      x: (B, T) int array input tokens.\n",
    "      y: (B, T) int array target tokens.\n",
    "    \"\"\"\n",
    "    # choose random starting indices for each sequence in the batch\n",
    "    ix = np.random.randint(0, len(text_int) - T, size=B)\n",
    "    # inputs are text from i to i+T\n",
    "    x = np.stack([text_int[i:i+T] for i in ix])\n",
    "    # targets are text from i+1 to i+T+1\n",
    "    y = np.stack([text_int[i+1:i+T+1] for i in ix])\n",
    "    return jnp.array(x, dtype=jnp.int32), jnp.array(y, dtype=jnp.int32)"
   ]
  },
  {
   "cell_type": "markdown",
   "id": "f5da80db",
   "metadata": {
    "id": "f5da80db"
   },
   "source": [
    "# Optimizer creation:"
   ]
  },
  {
   "cell_type": "code",
   "execution_count": 16,
   "id": "de18cd4a",
   "metadata": {
    "execution": {
     "iopub.execute_input": "2025-11-01T16:11:24.054779Z",
     "iopub.status.busy": "2025-11-01T16:11:24.054491Z",
     "iopub.status.idle": "2025-11-01T18:03:25.479618Z",
     "shell.execute_reply": "2025-11-01T18:03:25.478962Z",
     "shell.execute_reply.started": "2025-11-01T16:11:24.054758Z"
    },
    "trusted": true
   },
   "outputs": [
    {
     "name": "stdout",
     "output_type": "stream",
     "text": [
      "iteration 0  time: 7.1 seconds\n",
      "\t \t loss(train :: test): 3.9245 :: 3.9188\n",
      "\t \t accuracy (train :: test): 3.0% :: 2.9%\n",
      "\t \t accuracy (last character) (train :: test): 2.0% :: 2.2%\n",
      "\t \t learning rate: 0.000000\n",
      "\n",
      "iteration 2_000  time: 141.5 seconds\n",
      "\t \t loss(train :: test): 1.9979 :: 2.0312\n",
      "\t \t accuracy (train :: test): 39.2% :: 38.4%\n",
      "\t \t accuracy (last character) (train :: test): 36.7% :: 36.4%\n",
      "\t \t learning rate: 0.000020\n",
      "\n",
      "iteration 4_000  time: 275.4 seconds\n",
      "\t \t loss(train :: test): 1.7218 :: 1.6931\n",
      "\t \t accuracy (train :: test): 47.4% :: 48.4%\n",
      "\t \t accuracy (last character) (train :: test): 49.6% :: 51.8%\n",
      "\t \t learning rate: 0.000040\n",
      "\n",
      "iteration 6_000  time: 410.0 seconds\n",
      "\t \t loss(train :: test): 1.5616 :: 1.5402\n",
      "\t \t accuracy (train :: test): 51.9% :: 52.3%\n",
      "\t \t accuracy (last character) (train :: test): 53.5% :: 54.4%\n",
      "\t \t learning rate: 0.000060\n",
      "\n",
      "iteration 8_000  time: 544.3 seconds\n",
      "\t \t loss(train :: test): 1.4894 :: 1.5045\n",
      "\t \t accuracy (train :: test): 54.3% :: 53.6%\n",
      "\t \t accuracy (last character) (train :: test): 58.6% :: 55.5%\n",
      "\t \t learning rate: 0.000080\n",
      "\n",
      "iteration 10_000  time: 678.6 seconds\n",
      "\t \t loss(train :: test): 1.4313 :: 1.4334\n",
      "\t \t accuracy (train :: test): 55.3% :: 55.2%\n",
      "\t \t accuracy (last character) (train :: test): 57.8% :: 56.0%\n",
      "\t \t learning rate: 0.000100\n",
      "\n",
      "iteration 12_000  time: 813.0 seconds\n",
      "\t \t loss(train :: test): 1.4159 :: 1.4258\n",
      "\t \t accuracy (train :: test): 55.6% :: 55.5%\n",
      "\t \t accuracy (last character) (train :: test): 62.1% :: 55.2%\n",
      "\t \t learning rate: 0.000100\n",
      "\n",
      "iteration 14_000  time: 947.3 seconds\n",
      "\t \t loss(train :: test): 1.3809 :: 1.3882\n",
      "\t \t accuracy (train :: test): 56.9% :: 56.4%\n",
      "\t \t accuracy (last character) (train :: test): 61.3% :: 57.1%\n",
      "\t \t learning rate: 0.000100\n",
      "\n",
      "iteration 16_000  time: 1081.5 seconds\n",
      "\t \t loss(train :: test): 1.3279 :: 1.3961\n",
      "\t \t accuracy (train :: test): 58.4% :: 56.3%\n",
      "\t \t accuracy (last character) (train :: test): 59.0% :: 57.8%\n",
      "\t \t learning rate: 0.000099\n",
      "\n",
      "iteration 18_000  time: 1215.8 seconds\n",
      "\t \t loss(train :: test): 1.3355 :: 1.3863\n",
      "\t \t accuracy (train :: test): 57.9% :: 56.6%\n",
      "\t \t accuracy (last character) (train :: test): 64.8% :: 57.7%\n",
      "\t \t learning rate: 0.000098\n",
      "\n",
      "iteration 20_000  time: 1350.1 seconds\n",
      "\t \t loss(train :: test): 1.3436 :: 1.3477\n",
      "\t \t accuracy (train :: test): 57.3% :: 57.7%\n",
      "\t \t accuracy (last character) (train :: test): 69.1% :: 59.4%\n",
      "\t \t learning rate: 0.000097\n",
      "\n",
      "iteration 22_000  time: 1484.3 seconds\n",
      "\t \t loss(train :: test): 1.2870 :: 1.3735\n",
      "\t \t accuracy (train :: test): 58.9% :: 57.4%\n",
      "\t \t accuracy (last character) (train :: test): 64.8% :: 60.4%\n",
      "\t \t learning rate: 0.000096\n",
      "\n",
      "iteration 24_000  time: 1618.5 seconds\n",
      "\t \t loss(train :: test): 1.3487 :: 1.3456\n",
      "\t \t accuracy (train :: test): 57.7% :: 57.9%\n",
      "\t \t accuracy (last character) (train :: test): 63.3% :: 59.2%\n",
      "\t \t learning rate: 0.000094\n",
      "\n",
      "iteration 26_000  time: 1752.7 seconds\n",
      "\t \t loss(train :: test): 1.2638 :: 1.3303\n",
      "\t \t accuracy (train :: test): 60.4% :: 58.4%\n",
      "\t \t accuracy (last character) (train :: test): 61.7% :: 61.4%\n",
      "\t \t learning rate: 0.000092\n",
      "\n",
      "iteration 28_000  time: 1887.0 seconds\n",
      "\t \t loss(train :: test): 1.3316 :: 1.3209\n",
      "\t \t accuracy (train :: test): 58.2% :: 58.4%\n",
      "\t \t accuracy (last character) (train :: test): 65.2% :: 61.1%\n",
      "\t \t learning rate: 0.000090\n",
      "\n",
      "iteration 30_000  time: 2021.2 seconds\n",
      "\t \t loss(train :: test): 1.3395 :: 1.3263\n",
      "\t \t accuracy (train :: test): 58.1% :: 58.1%\n",
      "\t \t accuracy (last character) (train :: test): 56.2% :: 61.1%\n",
      "\t \t learning rate: 0.000088\n",
      "\n",
      "iteration 32_000  time: 2155.5 seconds\n",
      "\t \t loss(train :: test): 1.3387 :: 1.3028\n",
      "\t \t accuracy (train :: test): 57.7% :: 59.1%\n",
      "\t \t accuracy (last character) (train :: test): 61.7% :: 61.0%\n",
      "\t \t learning rate: 0.000086\n",
      "\n",
      "iteration 34_000  time: 2289.7 seconds\n",
      "\t \t loss(train :: test): 1.2735 :: 1.3165\n",
      "\t \t accuracy (train :: test): 60.2% :: 58.4%\n",
      "\t \t accuracy (last character) (train :: test): 60.2% :: 62.4%\n",
      "\t \t learning rate: 0.000083\n",
      "\n",
      "iteration 36_000  time: 2423.9 seconds\n",
      "\t \t loss(train :: test): 1.3200 :: 1.3091\n",
      "\t \t accuracy (train :: test): 58.2% :: 59.0%\n",
      "\t \t accuracy (last character) (train :: test): 60.9% :: 61.8%\n",
      "\t \t learning rate: 0.000081\n",
      "\n",
      "iteration 38_000  time: 2558.2 seconds\n",
      "\t \t loss(train :: test): 1.2731 :: 1.2986\n",
      "\t \t accuracy (train :: test): 59.6% :: 59.0%\n",
      "\t \t accuracy (last character) (train :: test): 64.1% :: 61.0%\n",
      "\t \t learning rate: 0.000078\n",
      "\n",
      "iteration 40_000  time: 2692.6 seconds\n",
      "\t \t loss(train :: test): 1.2614 :: 1.3079\n",
      "\t \t accuracy (train :: test): 60.2% :: 58.8%\n",
      "\t \t accuracy (last character) (train :: test): 62.9% :: 62.6%\n",
      "\t \t learning rate: 0.000075\n",
      "\n",
      "iteration 42_000  time: 2826.9 seconds\n",
      "\t \t loss(train :: test): 1.2898 :: 1.3016\n",
      "\t \t accuracy (train :: test): 59.7% :: 58.7%\n",
      "\t \t accuracy (last character) (train :: test): 59.0% :: 59.9%\n",
      "\t \t learning rate: 0.000072\n",
      "\n",
      "iteration 44_000  time: 2961.1 seconds\n",
      "\t \t loss(train :: test): 1.2687 :: 1.2938\n",
      "\t \t accuracy (train :: test): 60.0% :: 59.3%\n",
      "\t \t accuracy (last character) (train :: test): 61.7% :: 63.8%\n",
      "\t \t learning rate: 0.000069\n",
      "\n",
      "iteration 46_000  time: 3095.5 seconds\n",
      "\t \t loss(train :: test): 1.2716 :: 1.2826\n",
      "\t \t accuracy (train :: test): 60.1% :: 59.5%\n",
      "\t \t accuracy (last character) (train :: test): 67.2% :: 61.8%\n",
      "\t \t learning rate: 0.000065\n",
      "\n",
      "iteration 48_000  time: 3229.8 seconds\n",
      "\t \t loss(train :: test): 1.2558 :: 1.2939\n",
      "\t \t accuracy (train :: test): 60.0% :: 59.3%\n",
      "\t \t accuracy (last character) (train :: test): 63.7% :: 62.8%\n",
      "\t \t learning rate: 0.000062\n",
      "\n",
      "iteration 50_000  time: 3364.1 seconds\n",
      "\t \t loss(train :: test): 1.2547 :: 1.2997\n",
      "\t \t accuracy (train :: test): 60.3% :: 59.5%\n",
      "\t \t accuracy (last character) (train :: test): 64.5% :: 61.7%\n",
      "\t \t learning rate: 0.000059\n",
      "\n",
      "iteration 52_000  time: 3498.5 seconds\n",
      "\t \t loss(train :: test): 1.2887 :: 1.2928\n",
      "\t \t accuracy (train :: test): 59.2% :: 59.2%\n",
      "\t \t accuracy (last character) (train :: test): 59.8% :: 61.1%\n",
      "\t \t learning rate: 0.000055\n",
      "\n",
      "iteration 54_000  time: 3632.8 seconds\n",
      "\t \t loss(train :: test): 1.2573 :: 1.2919\n",
      "\t \t accuracy (train :: test): 59.9% :: 59.2%\n",
      "\t \t accuracy (last character) (train :: test): 57.4% :: 62.7%\n",
      "\t \t learning rate: 0.000052\n",
      "\n",
      "iteration 56_000  time: 3767.0 seconds\n",
      "\t \t loss(train :: test): 1.2890 :: 1.2786\n",
      "\t \t accuracy (train :: test): 59.4% :: 59.5%\n",
      "\t \t accuracy (last character) (train :: test): 65.6% :: 63.3%\n",
      "\t \t learning rate: 0.000048\n",
      "\n",
      "iteration 58_000  time: 3901.2 seconds\n",
      "\t \t loss(train :: test): 1.2805 :: 1.2919\n",
      "\t \t accuracy (train :: test): 59.7% :: 59.2%\n",
      "\t \t accuracy (last character) (train :: test): 59.4% :: 62.4%\n",
      "\t \t learning rate: 0.000045\n",
      "\n",
      "iteration 60_000  time: 4035.4 seconds\n",
      "\t \t loss(train :: test): 1.2271 :: 1.2838\n",
      "\t \t accuracy (train :: test): 61.5% :: 59.6%\n",
      "\t \t accuracy (last character) (train :: test): 64.8% :: 62.4%\n",
      "\t \t learning rate: 0.000041\n",
      "\n",
      "iteration 62_000  time: 4169.6 seconds\n",
      "\t \t loss(train :: test): 1.2778 :: 1.2918\n",
      "\t \t accuracy (train :: test): 59.3% :: 59.4%\n",
      "\t \t accuracy (last character) (train :: test): 60.2% :: 60.7%\n",
      "\t \t learning rate: 0.000038\n",
      "\n",
      "iteration 64_000  time: 4303.9 seconds\n",
      "\t \t loss(train :: test): 1.2449 :: 1.2776\n",
      "\t \t accuracy (train :: test): 59.9% :: 59.7%\n",
      "\t \t accuracy (last character) (train :: test): 68.4% :: 64.6%\n",
      "\t \t learning rate: 0.000035\n",
      "\n",
      "iteration 66_000  time: 4438.1 seconds\n",
      "\t \t loss(train :: test): 1.2781 :: 1.2721\n",
      "\t \t accuracy (train :: test): 59.9% :: 59.9%\n",
      "\t \t accuracy (last character) (train :: test): 64.1% :: 64.5%\n",
      "\t \t learning rate: 0.000031\n",
      "\n",
      "iteration 68_000  time: 4572.4 seconds\n",
      "\t \t loss(train :: test): 1.2640 :: 1.2737\n",
      "\t \t accuracy (train :: test): 60.0% :: 59.9%\n",
      "\t \t accuracy (last character) (train :: test): 62.5% :: 62.5%\n",
      "\t \t learning rate: 0.000028\n",
      "\n",
      "iteration 70_000  time: 4706.5 seconds\n",
      "\t \t loss(train :: test): 1.2256 :: 1.2815\n",
      "\t \t accuracy (train :: test): 61.5% :: 59.6%\n",
      "\t \t accuracy (last character) (train :: test): 68.4% :: 61.3%\n",
      "\t \t learning rate: 0.000025\n",
      "\n",
      "iteration 72_000  time: 4840.7 seconds\n",
      "\t \t loss(train :: test): 1.2257 :: 1.2508\n",
      "\t \t accuracy (train :: test): 60.5% :: 60.6%\n",
      "\t \t accuracy (last character) (train :: test): 67.2% :: 65.9%\n",
      "\t \t learning rate: 0.000022\n",
      "\n",
      "iteration 74_000  time: 4974.9 seconds\n",
      "\t \t loss(train :: test): 1.2527 :: 1.2695\n",
      "\t \t accuracy (train :: test): 60.9% :: 60.1%\n",
      "\t \t accuracy (last character) (train :: test): 70.7% :: 61.4%\n",
      "\t \t learning rate: 0.000019\n",
      "\n",
      "iteration 76_000  time: 5109.2 seconds\n",
      "\t \t loss(train :: test): 1.2420 :: 1.2677\n",
      "\t \t accuracy (train :: test): 60.5% :: 60.1%\n",
      "\t \t accuracy (last character) (train :: test): 65.2% :: 65.1%\n",
      "\t \t learning rate: 0.000017\n",
      "\n",
      "iteration 78_000  time: 5243.4 seconds\n",
      "\t \t loss(train :: test): 1.2616 :: 1.2706\n",
      "\t \t accuracy (train :: test): 59.9% :: 59.9%\n",
      "\t \t accuracy (last character) (train :: test): 68.0% :: 60.9%\n",
      "\t \t learning rate: 0.000014\n",
      "\n",
      "iteration 80_000  time: 5377.6 seconds\n",
      "\t \t loss(train :: test): 1.2714 :: 1.2683\n",
      "\t \t accuracy (train :: test): 60.2% :: 60.0%\n",
      "\t \t accuracy (last character) (train :: test): 65.2% :: 66.3%\n",
      "\t \t learning rate: 0.000012\n",
      "\n",
      "iteration 82_000  time: 5511.8 seconds\n",
      "\t \t loss(train :: test): 1.2637 :: 1.2561\n",
      "\t \t accuracy (train :: test): 59.9% :: 60.5%\n",
      "\t \t accuracy (last character) (train :: test): 66.4% :: 62.7%\n",
      "\t \t learning rate: 0.000010\n",
      "\n",
      "iteration 84_000  time: 5646.1 seconds\n",
      "\t \t loss(train :: test): 1.2353 :: 1.2822\n",
      "\t \t accuracy (train :: test): 61.0% :: 59.5%\n",
      "\t \t accuracy (last character) (train :: test): 65.2% :: 62.0%\n",
      "\t \t learning rate: 0.000008\n",
      "\n",
      "iteration 86_000  time: 5780.5 seconds\n",
      "\t \t loss(train :: test): 1.2442 :: 1.2666\n",
      "\t \t accuracy (train :: test): 61.3% :: 60.0%\n",
      "\t \t accuracy (last character) (train :: test): 61.7% :: 64.4%\n",
      "\t \t learning rate: 0.000006\n",
      "\n",
      "iteration 88_000  time: 5914.9 seconds\n",
      "\t \t loss(train :: test): 1.2331 :: 1.2756\n",
      "\t \t accuracy (train :: test): 60.9% :: 59.9%\n",
      "\t \t accuracy (last character) (train :: test): 60.2% :: 63.2%\n",
      "\t \t learning rate: 0.000004\n",
      "\n",
      "iteration 90_000  time: 6049.2 seconds\n",
      "\t \t loss(train :: test): 1.2070 :: 1.2646\n",
      "\t \t accuracy (train :: test): 62.0% :: 60.2%\n",
      "\t \t accuracy (last character) (train :: test): 62.5% :: 64.4%\n",
      "\t \t learning rate: 0.000003\n",
      "\n",
      "iteration 92_000  time: 6183.5 seconds\n",
      "\t \t loss(train :: test): 1.2446 :: 1.2417\n",
      "\t \t accuracy (train :: test): 60.8% :: 61.0%\n",
      "\t \t accuracy (last character) (train :: test): 67.6% :: 64.3%\n",
      "\t \t learning rate: 0.000002\n",
      "\n",
      "iteration 94_000  time: 6317.9 seconds\n",
      "\t \t loss(train :: test): 1.2251 :: 1.2553\n",
      "\t \t accuracy (train :: test): 60.9% :: 60.4%\n",
      "\t \t accuracy (last character) (train :: test): 63.3% :: 62.9%\n",
      "\t \t learning rate: 0.000001\n",
      "\n",
      "iteration 96_000  time: 6452.3 seconds\n",
      "\t \t loss(train :: test): 1.2303 :: 1.2732\n",
      "\t \t accuracy (train :: test): 61.0% :: 60.0%\n",
      "\t \t accuracy (last character) (train :: test): 63.7% :: 62.2%\n",
      "\t \t learning rate: 0.000000\n",
      "\n",
      "iteration 98_000  time: 6586.6 seconds\n",
      "\t \t loss(train :: test): 1.2074 :: 1.2490\n",
      "\t \t accuracy (train :: test): 61.7% :: 60.6%\n",
      "\t \t accuracy (last character) (train :: test): 64.1% :: 63.3%\n",
      "\t \t learning rate: 0.000000\n",
      "\n",
      "iteration 99_999  time: 6720.9 seconds\n",
      "\t \t loss(train :: test): 1.2296 :: 1.2488\n",
      "\t \t accuracy (train :: test): 61.0% :: 60.8%\n",
      "\t \t accuracy (last character) (train :: test): 63.7% :: 63.7%\n",
      "\t \t learning rate: 0.000000\n",
      "\n"
     ]
    }
   ],
   "source": [
    "# ---- CONFIG ----\n",
    "niter = 100_000\n",
    "B, T = 256, 32           # changed batch size 128 --> 256\n",
    "B_test, T_test = 1024, 32\n",
    "\n",
    "base_lr = 1e-4           # pick your base LR here\n",
    "warmup_frac = 0.1\n",
    "weight_decay = 1e-4\n",
    "\n",
    "# ---- COSINE WARMUP + DECAY SCHEDULE ----\n",
    "warmup_steps = int(warmup_frac * niter)\n",
    "decay_steps  = niter - warmup_steps\n",
    "\n",
    "def make_full_cosine(base_lr):\n",
    "    def schedule(step):\n",
    "        s = jnp.minimum(step, 1_000_000)\n",
    "        warmup_lr = base_lr * (s / warmup_steps)\n",
    "        cosine_decay = 0.5 * (1 + jnp.cos(jnp.pi * (s - warmup_steps) / decay_steps))\n",
    "        cosine_lr = base_lr * cosine_decay\n",
    "        return jnp.where(s < warmup_steps, warmup_lr, cosine_lr)\n",
    "    return schedule\n",
    "\n",
    "schedule_fn = make_full_cosine(base_lr)\n",
    "\n",
    "# ---- OPTIMIZER ----\n",
    "tx = optax.chain(\n",
    "    optax.clip_by_global_norm(1.0),\n",
    "    optax.adamw(learning_rate=schedule_fn, weight_decay=weight_decay)\n",
    ")\n",
    "opt_state = tx.init(params)\n",
    "\n",
    "# ---- TRAINING LOOP ----\n",
    "loss_history = []\n",
    "time_history = []\n",
    "time_test_history = []\n",
    "loss_test_history = []\n",
    "\n",
    "time_start = time.time()\n",
    "\n",
    "for it in range(niter):\n",
    "    # --- training step ---\n",
    "    input, target = get_batch(train_text_int, B, T)\n",
    "    params, opt_state, metrics = train_step(params, opt_state, input, target, tx)\n",
    "\n",
    "    loss = float(metrics['loss'])\n",
    "    acc = float(metrics['acc'])\n",
    "    acc_last = float(metrics['acc_last'])\n",
    "\n",
    "    loss_history.append(loss)\n",
    "    time_history.append(time.time() - time_start)\n",
    "\n",
    "    # --- optionally record current LR ---\n",
    "    current_lr = float(schedule_fn(it))\n",
    "\n",
    "    # --- periodic test ---\n",
    "    if it % (niter // 50) == 0 or it == niter - 1:\n",
    "        time_since_start = time.time() - time_start\n",
    "\n",
    "        test_input, test_target = get_batch(test_text_int, B_test, T_test)\n",
    "        test_logits = model.apply({\"params\": params}, test_input)\n",
    "        test_loss, test_metrics = loss_and_metrics(test_logits, test_target)\n",
    "\n",
    "        test_acc = float(test_metrics['acc'])\n",
    "        test_acc_last = float(test_metrics['acc_last'])\n",
    "        loss_test_history.append(float(test_loss))\n",
    "        time_test_history.append(time_since_start)\n",
    "\n",
    "        print(f\"iteration {it:_}  time: {time_since_start:.1f} seconds\")\n",
    "        print(f\"\\t \\t loss(train :: test): {loss:.4f} :: {test_loss:.4f}\")\n",
    "        print(f\"\\t \\t accuracy (train :: test): {100*acc:.1f}% :: {100*test_acc:.1f}%\")\n",
    "        print(f\"\\t \\t accuracy (last character) (train :: test): {100*acc_last:.1f}% :: {100*test_acc_last:.1f}%\")\n",
    "        print(f\"\\t \\t learning rate: {current_lr:.6f}\")\n",
    "        print()\n"
   ]
  },
  {
   "cell_type": "code",
   "execution_count": 17,
   "id": "340e8a4c",
   "metadata": {
    "colab": {
     "base_uri": "https://localhost:8080/"
    },
    "execution": {
     "iopub.execute_input": "2025-11-01T18:03:25.480516Z",
     "iopub.status.busy": "2025-11-01T18:03:25.480340Z",
     "iopub.status.idle": "2025-11-01T18:03:25.484275Z",
     "shell.execute_reply": "2025-11-01T18:03:25.483332Z",
     "shell.execute_reply.started": "2025-11-01T18:03:25.480502Z"
    },
    "id": "340e8a4c",
    "outputId": "4a97fd8e-b10f-4b29-d4fd-5fb5543ce688",
    "trusted": true
   },
   "outputs": [],
   "source": [
    "# # define optax optimizer\n",
    "# learning_rate = 0.001\n",
    "# # Create Adam optimizer (Optax)\n",
    "# tx = optax.adam(learning_rate=learning_rate)\n",
    "# # Initialize optimizer state for current params\n",
    "# opt_state = tx.init(params)\n",
    "# print(f\"Initialized optimizer: Adam lr={learning_rate}\")\n",
    "\n"
   ]
  },
  {
   "cell_type": "code",
   "execution_count": 18,
   "id": "28f2f1d0",
   "metadata": {
    "colab": {
     "base_uri": "https://localhost:8080/"
    },
    "execution": {
     "iopub.execute_input": "2025-11-01T18:03:25.485304Z",
     "iopub.status.busy": "2025-11-01T18:03:25.485055Z",
     "iopub.status.idle": "2025-11-01T18:03:25.496069Z",
     "shell.execute_reply": "2025-11-01T18:03:25.495521Z",
     "shell.execute_reply.started": "2025-11-01T18:03:25.485278Z"
    },
    "id": "28f2f1d0",
    "outputId": "0cf7e73b-2da4-4744-f245-bb416404f874",
    "trusted": true
   },
   "outputs": [],
   "source": [
    "# niter = 100_000\n",
    "# B, T = 128, 32\n",
    "\n",
    "# # cosine warmup schedule (full schedule)\n",
    "# warmup_steps = int(0.1 * niter)\n",
    "# decay_steps  = niter - warmup_steps\n",
    "\n",
    "# def make_full_cosine(base_lr):\n",
    "#     def schedule(step):\n",
    "#         s = jnp.minimum(step, 1_000_000)\n",
    "#         warmup_lr = base_lr * (s / warmup_steps)\n",
    "#         cosine_decay = 0.5 * (1 + jnp.cos(jnp.pi * (s - warmup_steps) / decay_steps))\n",
    "#         cosine_lr = base_lr * cosine_decay\n",
    "#         return jnp.where(s < warmup_steps, warmup_lr, cosine_lr)\n",
    "#     return schedule\n",
    "\n",
    "# loss_history = []\n",
    "# time_history = []\n",
    "# time_test_history = []\n",
    "# loss_test_history = []\n",
    "# time_start = time.time()\n",
    "\n",
    "# for it in range(niter):\n",
    "#     batch = get_batch(train_text_int, B, T)\n",
    "#     input, target = batch[0], batch[1]\n",
    "#     params_new, opt_state_new, metrics = train_step(params, opt_state, input, target, tx)\n",
    "\n",
    "#     # update params and opt_state\n",
    "#     params = params_new\n",
    "#     opt_state = opt_state_new\n",
    "#     acc = metrics['acc']\n",
    "#     acc_last = metrics['acc_last']\n",
    "#     loss = metrics['loss']\n",
    "\n",
    "#     loss_history.append(loss)\n",
    "#     time_history.append(time.time() - time_start)\n",
    "\n",
    "#     if it % (niter // 50) == 0 or it == niter - 1:\n",
    "#         time_since_start = time.time() - time_start\n",
    "#         # compute loss on test set\n",
    "#         B_test, T_test = 1024, 32\n",
    "#         test_batch = get_batch(test_text_int, B_test, T_test)\n",
    "#         test_input, test_target = test_batch[0], test_batch[1]\n",
    "#         test_logits = model.apply({\"params\": params}, test_input)\n",
    "#         test_loss, test_metrics = loss_and_metrics(test_logits, test_target)\n",
    "#         test_acc = test_metrics['acc']\n",
    "#         test_acc_last = test_metrics['acc_last']\n",
    "#         loss_test_history.append(test_loss)\n",
    "#         time_test_history.append(time_since_start)\n",
    "#         print(f\"iteration {it:_}  time: {time_since_start:.1f} seconds\")\n",
    "#         print(f\"\\t \\t loss(train :: test): {loss:.4f} :: {test_loss:.4f}\")\n",
    "#         print(f\"\\t \\t accuracy (train :: test): {100*acc:.1f}% :: {100*test_acc:.1f}%\")\n",
    "#         print(f\"\\t \\t accuracy (last character) (train :: test): {100*acc_last:.1f}% :: {100*test_acc_last:.1f}%\")\n",
    "#         print()\n"
   ]
  },
  {
   "cell_type": "code",
   "execution_count": 19,
   "id": "217fb628",
   "metadata": {
    "colab": {
     "base_uri": "https://localhost:8080/",
     "height": 472
    },
    "execution": {
     "iopub.execute_input": "2025-11-01T18:03:25.497031Z",
     "iopub.status.busy": "2025-11-01T18:03:25.496794Z",
     "iopub.status.idle": "2025-11-01T18:03:25.890966Z",
     "shell.execute_reply": "2025-11-01T18:03:25.890313Z",
     "shell.execute_reply.started": "2025-11-01T18:03:25.497011Z"
    },
    "id": "217fb628",
    "outputId": "ac4251cc-590b-4faf-c04f-1519e365cbe0",
    "trusted": true
   },
   "outputs": [
    {
     "data": {
      "image/png": "[encoded data removed]",
      "text/plain": [
       "<Figure size 640x480 with 1 Axes>"
      ]
     },
     "metadata": {},
     "output_type": "display_data"
    }
   ],
   "source": [
    "# plot the loss history\n",
    "import matplotlib.pyplot as plt\n",
    "plt.plot(time_history, loss_history, '-', label='train', color=\"blue\")\n",
    "plt.plot(time_test_history, loss_test_history, '-', label='test', lw=2, color=\"red\")\n",
    "plt.xlabel(\"Time (seconds)\")\n",
    "plt.ylabel(\"Loss\")\n",
    "plt.legend(loc='upper right')\n",
    "plt.title(\"Training Loss History\")\n",
    "plt.grid()"
   ]
  },
  {
   "cell_type": "code",
   "execution_count": 20,
   "id": "fbb0b0d1",
   "metadata": {
    "colab": {
     "base_uri": "https://localhost:8080/"
    },
    "execution": {
     "iopub.execute_input": "2025-11-01T18:03:25.892258Z",
     "iopub.status.busy": "2025-11-01T18:03:25.891964Z",
     "iopub.status.idle": "2025-11-01T18:03:28.645191Z",
     "shell.execute_reply": "2025-11-01T18:03:28.644354Z",
     "shell.execute_reply.started": "2025-11-01T18:03:25.892230Z"
    },
    "id": "fbb0b0d1",
    "outputId": "03cfe491-6885-4ba3-bb24-5657bfa6dd1c",
    "trusted": true
   },
   "outputs": [
    {
     "name": "stdout",
     "output_type": "stream",
     "text": [
      "generated ids shape: (1, 1000)\n",
      "generated text:\n",
      "hello my fri il n c n o bs l h sh oi onom clinigapmanndhnd rp esacoccakacintt cou ea a m yothuclmeidal miou e chte msm tws clios ds l amoatantathendimik t b j ararsmaisc tha a an e sy ruan rwntanesibi t fa m salnd thalthfcetois oe ack p te d ppet c oanfioe t t aenmdewcarnd c wsing palockthec t g sdin can g m teoeingoch malisaeoupinth iszam g einnthfeelindet p os isoospe x cs arspira oialsd c avthesima f xid hstrotit t alest es aooto bpa xy phee iainindecalinalanth inganthdala and ipigmbe ty eo ais ta he a o kssocatrett saisainnscanyc el bi t gm p ar overth aanibisieascr sigs t intand arawisstasi yr oeparsalc s ychpartison tenouluanar ateelat sostel r tiscco tasm e tiseli animialo ar ysae ndestear e osthandeibs igric tegnd tal ondintalate a sthrseneaplra m chseckhsoo an alozlanast ta car cdtea ptee sthc wnt ae oouchnt casc an prorrlea tt hysgant omoes mgbded ctiene isalisa sthtalesnthais pins irlrainte temsilel e oe i t ptamalige tioeassrienesas nondth orga al eame a teie s s alhapalantidandamm tes\n"
     ]
    }
   ],
   "source": [
    "B = 1\n",
    "seed = 42\n",
    "rng = jax.random.PRNGKey(seed)\n",
    "prompt = \"hello my fri\"\n",
    "# prompt_int = encode(prompt.lower())\n",
    "prompt_int = jnp.array([ [char_to_int.get(c, len(char_set)) for c in prompt.lower()[:64]] ], dtype=jnp.int32)\n",
    "\n",
    "gen_len = 1000\n",
    "out_ids = generation.generate_tokens(model, params, rng, prompt_int, gen_len, block_size=64,\n",
    "                          temperature=0.7, sample=True)\n",
    "print('generated ids shape:', out_ids.shape)\n",
    "print('generated text:')\n",
    "generated_text = ''.join(int_to_char.get(int(x), '?') for x in list(out_ids[0]))\n",
    "# concatenate with prompt\n",
    "print(prompt + generated_text)\n",
    "#print(''.join(int_to_char.get(int(x), '?') for x in list(out_ids[0])))"
   ]
  }
 ],
 "metadata": {
  "accelerator": "TPU",
  "colab": {
   "gpuType": "V5E1",
   "provenance": []
  },
  "kaggle": {
   "accelerator": "nvidiaTeslaT4",
   "dataSources": [],
   "dockerImageVersionId": 31154,
   "isGpuEnabled": true,
   "isInternetEnabled": true,
   "language": "python",
   "sourceType": "notebook"
  },
  "kernelspec": {
   "display_name": "Python 3",
   "language": "python",
   "name": "python3"
  },
  "language_info": {
   "codemirror_mode": {
    "name": "ipython",
    "version": 3
   },
   "file_extension": ".py",
   "mimetype": "text/x-python",
   "name": "python",
   "nbconvert_exporter": "python",
   "pygments_lexer": "ipython3",
   "version": "3.11.13"
  }
 },
 "nbformat": 4,
 "nbformat_minor": 5
}
