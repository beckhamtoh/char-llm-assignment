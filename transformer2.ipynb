{
  "cells": [
    {
      "cell_type": "code",
      "source": [
        "!git clone https://github.com/beckhamtoh/char-llm-assignment.git\n",
        "%cd char-llm-assignment"
      ],
      "metadata": {
        "id": "LNS1ztqUUrw7",
        "outputId": "2a176d94-8aac-4bd2-c70c-21654e06f7f9",
        "colab": {
          "base_uri": "https://localhost:8080/"
        }
      },
      "id": "LNS1ztqUUrw7",
      "execution_count": 172,
      "outputs": [
        {
          "output_type": "stream",
          "name": "stdout",
          "text": [
            "Cloning into 'char-llm-assignment'...\n",
            "remote: Enumerating objects: 21, done.\u001b[K\n",
            "remote: Counting objects: 100% (21/21), done.\u001b[K\n",
            "remote: Compressing objects: 100% (17/17), done.\u001b[K\n",
            "remote: Total 21 (delta 3), reused 11 (delta 0), pack-reused 0 (from 0)\u001b[K\n",
            "Receiving objects: 100% (21/21), 30.18 MiB | 37.92 MiB/s, done.\n",
            "Resolving deltas: 100% (3/3), done.\n",
            "/content/char-llm-assignment/char-llm-assignment/char-llm-assignment/char-llm-assignment/char-llm-assignment/char-llm-assignment\n"
          ]
        }
      ]
    },
    {
      "cell_type": "code",
      "execution_count": 173,
      "id": "e2def0f4",
      "metadata": {
        "id": "e2def0f4"
      },
      "outputs": [],
      "source": [
        "# Enable autoreload of local Python modules (e.g., models)\n",
        "# %load_ext autoreload\n",
        "# %autoreload 2\n",
        "\n",
        "# manual reload for local modules\n",
        "import importlib"
      ]
    },
    {
      "cell_type": "markdown",
      "source": [
        "**the only change i did was to import matplotlib for plotting**"
      ],
      "metadata": {
        "id": "pfZ0hnLZ2kN7"
      },
      "id": "pfZ0hnLZ2kN7"
    },
    {
      "cell_type": "code",
      "execution_count": 174,
      "id": "d5001b05",
      "metadata": {
        "id": "d5001b05"
      },
      "outputs": [],
      "source": [
        "import os\n",
        "os.environ[\"CUDA_VISIBLE_DEVICES\"] = \"0\"\n",
        "\n",
        "import numpy as np\n",
        "import jax\n",
        "import jax.numpy as jnp\n",
        "import optax\n",
        "import time\n",
        "import matplotlib.pyplot as plt\n",
        "\n",
        "# local imports\n",
        "import models.models as models\n",
        "import util.generation as generation\n"
      ]
    },
    {
      "cell_type": "code",
      "execution_count": 175,
      "id": "906db4f2",
      "metadata": {
        "id": "906db4f2"
      },
      "outputs": [],
      "source": [
        "# initialize the jax random key\n",
        "key = jax.random.key(0)"
      ]
    },
    {
      "cell_type": "markdown",
      "id": "762a1c8f",
      "metadata": {
        "id": "762a1c8f"
      },
      "source": [
        "# Load data"
      ]
    },
    {
      "cell_type": "markdown",
      "source": [
        "**no change**"
      ],
      "metadata": {
        "id": "Gpo9Ltke4BIw"
      },
      "id": "Gpo9Ltke4BIw"
    },
    {
      "cell_type": "code",
      "execution_count": 176,
      "id": "86825275",
      "metadata": {
        "id": "86825275",
        "outputId": "0e333d73-793f-401b-9f30-ebbb807eb812",
        "colab": {
          "base_uri": "https://localhost:8080/"
        }
      },
      "outputs": [
        {
          "output_type": "stream",
          "name": "stdout",
          "text": [
            "Length of training text: 90_000_000 characters\n",
            "Length of test text: 5_000_000 characters\n"
          ]
        }
      ],
      "source": [
        "# load the ./data/text8_train.txt and ./data/text8_test.txt files\n",
        "with open(\"./data/text8_train.txt\", \"r\") as f:\n",
        "    train_text = f.read()\n",
        "with open(\"./data/text8_test.txt\", \"r\") as f:\n",
        "    test_text = f.read()\n",
        "\n",
        "# print the length of the training text and test text\n",
        "print(f\"Length of training text: {len(train_text):_} characters\")\n",
        "print(f\"Length of test text: {len(test_text):_} characters\")"
      ]
    },
    {
      "cell_type": "code",
      "execution_count": 177,
      "id": "34b1eafe",
      "metadata": {
        "id": "34b1eafe"
      },
      "outputs": [],
      "source": [
        "# Build vocabulary (lowercase + space + a few punctuations)\n",
        "char_set = list(\"abcdefghijklmnopqrstuvwxyz \")\n",
        "char_to_int = {ch:i for i,ch in enumerate(char_set)}\n",
        "int_to_char = {i:ch for ch,i in char_to_int.items()}\n",
        "\n",
        "def encode(s):\n",
        "    \"\"\"Encode string to array of integers\"\"\"\n",
        "    ids = [char_to_int[c] for c in s]\n",
        "    return np.array(ids, dtype=np.uint8)  # use np.uint8 to save space"
      ]
    },
    {
      "cell_type": "code",
      "execution_count": 178,
      "id": "42b5af70",
      "metadata": {
        "id": "42b5af70"
      },
      "outputs": [],
      "source": [
        "# encode the text\n",
        "train_text_int = encode(train_text)\n",
        "test_text_int = encode(test_text)"
      ]
    },
    {
      "cell_type": "code",
      "execution_count": 179,
      "id": "6458536d",
      "metadata": {
        "id": "6458536d",
        "outputId": "afb0987d-e448-428d-85d0-2ec733a48f89",
        "colab": {
          "base_uri": "https://localhost:8080/"
        }
      },
      "outputs": [
        {
          "output_type": "stream",
          "name": "stdout",
          "text": [
            "id by fux s contemporaries to be in palestrina style indeed fux s treatise is a rather accurate compendeum of palestrina s techn\n",
            "\n",
            "t in the downtown core which was rebuilt in neoclassical style to resemble st petersburg like elsewhere technological advancemen\n",
            "\n",
            "i ir t mar novel one nine three five r ur gamli halti short stories see ttir one nine three seven daglei fj llum articles one ni\n",
            "\n",
            "e and the country a frieze on the facade of the supreme court building depicts the figure of a roman centurion holding a fasces \n",
            "\n",
            "evolutions of revolutionary parties that for ideologic or pragmatic reasons came to embrace a strategy of gradual change through\n",
            "\n"
          ]
        }
      ],
      "source": [
        "# sanity check: display a few random characters from the training text\n",
        "T = 128\n",
        "for _ in range(5):\n",
        "    # choose random position in text\n",
        "    N = np.random.randint(low=0, high=len(train_text)-T)\n",
        "    print(train_text[N:N+T])\n",
        "    print()"
      ]
    },
    {
      "cell_type": "markdown",
      "id": "7724c34b",
      "metadata": {
        "id": "7724c34b"
      },
      "source": [
        "# Create a basic Transformer model"
      ]
    },
    {
      "cell_type": "markdown",
      "source": [
        "d_ff: the feedforward dimension inside each encoder / decoder block (allows the network to learn more complex and non-linear transformations of the data from the attention layers)\n",
        "\n",
        "dropout_rate: for regularization\n",
        "\n",
        "add positional encoding - learned or sinusoidal positional embeddings (2 methods for a model to undertsand the order of tokens in a sequence)\n",
        "\n",
        "k_future: allow predicting multiple future tokens --> loss function can be modified to compute only the last token or last k_future tokens for better long-term dependency learning\n",
        "\n",
        "**not supported???**"
      ],
      "metadata": {
        "id": "e-vhXOaOVNcj"
      },
      "id": "e-vhXOaOVNcj"
    },
    {
      "cell_type": "code",
      "execution_count": 180,
      "id": "f5955c3f",
      "metadata": {
        "id": "f5955c3f"
      },
      "outputs": [],
      "source": [
        "def create_train_state(rng, vocab_size = 27, d_model = 256, n_layers = 2, n_heads = 8, max_len = 128):\n",
        "    model = models.DecoderOnlyTransformer(\n",
        "        vocab_size=vocab_size, d_model=d_model, n_layers=n_layers, n_heads=n_heads, max_len=max_len\n",
        "    )\n",
        "    dummy = jnp.zeros((1, max_len), dtype=jnp.int32)\n",
        "    params = model.init({\"params\": rng}, dummy)[\"params\"]\n",
        "    return model, params"
      ]
    },
    {
      "cell_type": "markdown",
      "source": [
        "prof's code:"
      ],
      "metadata": {
        "id": "Q5eofl7H23sx"
      },
      "id": "Q5eofl7H23sx"
    },
    {
      "cell_type": "code",
      "source": [
        "def create_train_state(rng, vocab_size=27, d_model=64, n_layers=6, n_heads=8, max_len=128):\n",
        "    # create a basic Transformer model\n",
        "    model = models.DecoderOnlyTransformer(vocab_size, d_model, n_layers, n_heads, max_len)\n",
        "    # create a dummy input for initialization\n",
        "    dummy = jnp.zeros((1, min(16, max_len)), dtype=jnp.int32)\n",
        "    # pass the dummy input to the model to initialize the parameters\n",
        "    params = model.init({\"params\": rng}, dummy)[\"params\"]\n",
        "    return model, params"
      ],
      "metadata": {
        "id": "6Iuv9kAe22rt"
      },
      "id": "6Iuv9kAe22rt",
      "execution_count": null,
      "outputs": []
    },
    {
      "cell_type": "markdown",
      "source": [
        "comparison:\n",
        "\n",
        "dummy sequence uses max length --> ensures initialization will correctly allocate all positional embeddings for the intended sequence length (subtle)\n",
        "\n",
        "- positional embeddings: vectors added to the input embeddings of a model, like a transformer, to give it information about the order of tokens in a sequence\n",
        "\n",
        "changes model dimensions"
      ],
      "metadata": {
        "id": "0TQ9xtxp3UIc"
      },
      "id": "0TQ9xtxp3UIc"
    },
    {
      "cell_type": "markdown",
      "source": [
        "\n",
        "\n",
        "---\n",
        "\n",
        "\n",
        "no change:"
      ],
      "metadata": {
        "id": "B-r18nLd4IB2"
      },
      "id": "B-r18nLd4IB2"
    },
    {
      "cell_type": "code",
      "execution_count": 181,
      "id": "c3ea2291",
      "metadata": {
        "id": "c3ea2291"
      },
      "outputs": [],
      "source": [
        "# vocab size\n",
        "vocab_size= len(char_set)\n",
        "\n",
        "# internal model dimensions\n",
        "d_model=256\n",
        "\n",
        "# number of attention heads\n",
        "n_heads=8\n",
        "\n",
        "# number of Transformer layers\n",
        "n_layers=2\n",
        "\n",
        "# maximum sequence length\n",
        "max_len=128\n",
        "\n",
        "model, params = create_train_state(key, vocab_size, d_model, n_layers, n_heads, max_len)"
      ]
    },
    {
      "cell_type": "code",
      "execution_count": 182,
      "id": "c067e140",
      "metadata": {
        "id": "c067e140",
        "outputId": "69e0e2d8-a78e-4837-c6f2-cfc98772895a",
        "colab": {
          "base_uri": "https://localhost:8080/"
        }
      },
      "outputs": [
        {
          "output_type": "stream",
          "name": "stdout",
          "text": [
            "Number of parameters: 1_624_576\n"
          ]
        }
      ],
      "source": [
        "# compute the number of parameters\n",
        "def count_params(params):\n",
        "    return sum(x.size for x in jax.tree_util.tree_leaves(params))\n",
        "print(f\"Number of parameters: {count_params(params):_}\")"
      ]
    },
    {
      "cell_type": "code",
      "execution_count": 183,
      "id": "52231d73",
      "metadata": {
        "id": "52231d73",
        "outputId": "26697d80-89af-47bb-a288-978989caa813",
        "colab": {
          "base_uri": "https://localhost:8080/"
        }
      },
      "outputs": [
        {
          "output_type": "stream",
          "name": "stdout",
          "text": [
            "batch shape: (4, 32)\n",
            "logits shape: (4, 32, 27)\n"
          ]
        }
      ],
      "source": [
        "# sanity check: create a batch of data & run a forward pass\n",
        "B, T = 4, 32\n",
        "batch = jax.random.randint(\n",
        "    key=key,\n",
        "    shape=(B, T), minval=0, maxval=len(char_set))\n",
        "logits = model.apply({\"params\": params}, batch)\n",
        "\n",
        "print(\"batch shape:\", batch.shape)  # (B, T)\n",
        "print(\"logits shape:\", logits.shape)  # (B, T, vocab_size)"
      ]
    },
    {
      "cell_type": "markdown",
      "id": "b0213425",
      "metadata": {
        "id": "b0213425"
      },
      "source": [
        "# Loss function"
      ]
    },
    {
      "cell_type": "markdown",
      "source": [
        "compute the loss only on the last token of each sequence: long-term dependencies (currently: loss is averaged over all positions --> model is equally penalized for mistakes at the beginning, middle and end of the sequence) improvement: focuses the gradient on long-range dependencies and sequence-level learning (useful when you want the model to look further back in the sequence rather than just copy nearby tokens)"
      ],
      "metadata": {
        "id": "Y1QUnjYbYBPg"
      },
      "id": "Y1QUnjYbYBPg"
    },
    {
      "cell_type": "markdown",
      "source": [
        "extend this idea by predicting the last k tokens (k > 1): model still gets focused training on the final steps of the sequence, gradients for early tokens in the block are still computed indirectly via attention, but the loss signal is stronger for the part of the sequence we care about"
      ],
      "metadata": {
        "id": "J_6NP8ZlZjpj"
      },
      "id": "J_6NP8ZlZjpj"
    },
    {
      "cell_type": "markdown",
      "source": [
        "**not supported???**"
      ],
      "metadata": {
        "id": "0IaSO1jh4Y3d"
      },
      "id": "0IaSO1jh4Y3d"
    },
    {
      "cell_type": "markdown",
      "source": [
        "label smoothing --> for smoother probability distributions and better generalization (prevent overconfidence)"
      ],
      "metadata": {
        "id": "3Vp2_rTeY59_"
      },
      "id": "3Vp2_rTeY59_"
    },
    {
      "cell_type": "code",
      "execution_count": 184,
      "id": "ab7a3479",
      "metadata": {
        "id": "ab7a3479"
      },
      "outputs": [],
      "source": [
        "@jax.jit\n",
        "def loss_and_metrics(logits, targets, label_smoothing = 0.1):\n",
        "    B, T, V = logits.shape\n",
        "\n",
        "    # flatten batch and sequence for loss\n",
        "    flat_logits = logits.reshape(-1, V)\n",
        "    flat_targets = targets.reshape(-1)\n",
        "\n",
        "    # label smoothing\n",
        "    one_hot = jax.nn.one_hot(flat_targets, V)\n",
        "    smoothed = one_hot * (1 - label_smoothing) + label_smoothing / V\n",
        "    log_probs = jax.nn.log_softmax(flat_logits)\n",
        "    loss = -jnp.sum(smoothed * log_probs, axis = -1).mean()\n",
        "\n",
        "    # predictions\n",
        "    preds = jnp.argmax(logits, axis = -1)\n",
        "    acc_all = jnp.mean((preds == targets).astype(jnp.float32))\n",
        "    acc_last = jnp.mean((preds[:, -1] == targets[:, -1]).astype(jnp.float32))\n",
        "\n",
        "    metrics = {\"loss\": loss, \"acc_all\": acc_all, \"acc_last\": acc_last}\n",
        "    return loss, metrics\n",
        "\n",
        "loss_and_metrics = jax.jit(loss_and_metrics, static_argnames=(\"label_smoothing\",))"
      ]
    },
    {
      "cell_type": "markdown",
      "source": [
        "prof's code:"
      ],
      "metadata": {
        "id": "8IzrQuse4OwE"
      },
      "id": "8IzrQuse4OwE"
    },
    {
      "cell_type": "code",
      "source": [
        "@jax.jit\n",
        "def loss_and_metrics(logits, targets):\n",
        "    \"\"\"Compute cross-entropy loss and accuracy.\n",
        "\n",
        "    Assumes `targets` contains only valid integer class ids in [0, V-1] (no -1 ignore tokens).\n",
        "\n",
        "    Args:\n",
        "      logits: (B, T, V) float array of unnormalized scores.\n",
        "      targets: (B, T) integer array with ground-truth class ids.\n",
        "\n",
        "    Returns:\n",
        "      loss: scalar average cross-entropy over all positions.\n",
        "      metrics: dict with keys \"loss\" and \"acc\" (both scalars).\n",
        "    \"\"\"\n",
        "    # Flatten batch/time dims so optax works on shape (N, V) and (N,)\n",
        "    vocab = logits.shape[-1]\n",
        "    flat_logits = logits.reshape(-1, vocab)\n",
        "    flat_targets = targets.reshape(-1)\n",
        "\n",
        "    # Per-position cross-entropy, then mean over all positions\n",
        "    per_pos = optax.softmax_cross_entropy_with_integer_labels(flat_logits, flat_targets)\n",
        "    loss = per_pos.mean()\n",
        "\n",
        "    # prediction over all positions\n",
        "    preds = jnp.argmax(logits, axis=-1)  # (B, T)\n",
        "\n",
        "    # compute accuracy over only the last position\n",
        "    is_match = preds == targets\n",
        "\n",
        "    # Accuracy over all positions\n",
        "    acc_all = jnp.mean(is_match.astype(jnp.float32))\n",
        "\n",
        "    # Accuracy over only last position\n",
        "    acc_last = jnp.mean(is_match.astype(jnp.float32)[:,-1])\n",
        "\n",
        "    return loss, {\"loss\": loss, \"acc\": acc_all, \"acc_last\": acc_last}"
      ],
      "metadata": {
        "id": "Xy-MVgVH4OVy"
      },
      "id": "Xy-MVgVH4OVy",
      "execution_count": null,
      "outputs": []
    },
    {
      "cell_type": "markdown",
      "id": "05221147",
      "metadata": {
        "id": "05221147"
      },
      "source": [
        "# Optimization step:"
      ]
    },
    {
      "cell_type": "markdown",
      "source": [
        "add gradient clipping (rationale: to solve the following problem - large transformers can have unstable gradients)"
      ],
      "metadata": {
        "id": "eenlPtm_Z0OP"
      },
      "id": "eenlPtm_Z0OP"
    },
    {
      "cell_type": "code",
      "execution_count": 185,
      "id": "b720c846",
      "metadata": {
        "id": "b720c846"
      },
      "outputs": [],
      "source": [
        "def train_step(params, opt_state, x, y, tx, model, label_smoothing = 0.1):\n",
        "    def loss_fn(params):\n",
        "        logits = model.apply({\"params\": params}, x)\n",
        "        return loss_and_metrics(logits, y, label_smoothing = label_smoothing)\n",
        "\n",
        "    (loss, metrics), grads = jax.value_and_grad(loss_fn, has_aux = True)(params)\n",
        "\n",
        "    # Do NOT clip manually; already handled by tx\n",
        "    updates, new_opt_state = tx.update(grads, opt_state, params)\n",
        "    new_params = optax.apply_updates(params, updates)\n",
        "    return new_params, new_opt_state, metrics\n",
        "\n",
        "train_step = jax.jit(train_step, static_argnames = (\"tx\", \"model\", \"label_smoothing\"))"
      ]
    },
    {
      "cell_type": "markdown",
      "source": [
        "prof's code:"
      ],
      "metadata": {
        "id": "1vyK6_9F481J"
      },
      "id": "1vyK6_9F481J"
    },
    {
      "cell_type": "code",
      "execution_count": null,
      "metadata": {
        "id": "-bR-EDHU5H4E"
      },
      "outputs": [],
      "source": [
        "# create an update function\n",
        "def train_step(params, opt_state, x, y, tx):\n",
        "    \"\"\"Single optimization step using optax optimizer.\n",
        "\n",
        "    Args:\n",
        "      params: pytree of model parameters.\n",
        "      opt_state: optax optimizer state corresponding to `params`.\n",
        "      x: (B, T) int array input tokens.\n",
        "      y: (B, T) int array target tokens.\n",
        "      tx: optax.GradientTransformation (already initialized).\n",
        "\n",
        "    Returns:\n",
        "      new_params: updated parameters after one gradient step.\n",
        "      new_opt_state: updated optimizer state.\n",
        "      metrics: dict of scalar metrics (loss, acc).\n",
        "    \"\"\"\n",
        "    def loss_fn(params):\n",
        "        logits = model.apply({\"params\": params}, x)\n",
        "        loss, metrics = loss_and_metrics(logits, y)\n",
        "        return loss, metrics\n",
        "\n",
        "    # compute gradients (loss is scalar, metrics is auxiliary)\n",
        "    (loss, metrics), grads = jax.value_and_grad(loss_fn, has_aux=True)(params)\n",
        "\n",
        "    # optax update: compute parameter updates and new optimizer state\n",
        "    updates, new_opt_state = tx.update(grads, opt_state, params)\n",
        "    new_params = optax.apply_updates(params, updates)\n",
        "    return new_params, new_opt_state, metrics\n",
        "\n",
        "# jit: last argument should be static because it is an object\n",
        "train_step = jax.jit(train_step, static_argnames=(\"tx\",))"
      ],
      "id": "-bR-EDHU5H4E"
    },
    {
      "cell_type": "markdown",
      "id": "269d8e59",
      "metadata": {
        "id": "269d8e59"
      },
      "source": [
        "# Batch creation:"
      ]
    },
    {
      "cell_type": "markdown",
      "source": [
        "add k parameter to predict multiple future tokens (currently: always create targets of length T) **not supported**"
      ],
      "metadata": {
        "id": "AANdVmnRaoGn"
      },
      "id": "AANdVmnRaoGn"
    },
    {
      "cell_type": "markdown",
      "source": [
        "minor diff: ix = np.random.randint(0, len(text_int) - T - 1, size = B)\n",
        "- ensures never go out of bounds (-1)"
      ],
      "metadata": {
        "id": "pC9I0qR1598V"
      },
      "id": "pC9I0qR1598V"
    },
    {
      "cell_type": "code",
      "execution_count": 186,
      "id": "beb30f4e",
      "metadata": {
        "id": "beb30f4e"
      },
      "outputs": [],
      "source": [
        "def get_batch(text_int, B, T):\n",
        "    ix = np.random.randint(0, len(text_int) - T - 1, size = B)\n",
        "    x = np.stack([text_int[i : i+T] for i in ix])\n",
        "    y = np.stack([text_int[i+1 : i+T+1] for i in ix])\n",
        "    return jnp.array(x, dtype = jnp.int32), jnp.array(y, dtype = jnp.int32)"
      ]
    },
    {
      "cell_type": "markdown",
      "source": [
        "prof's code:"
      ],
      "metadata": {
        "id": "-FyFnQpK5sLs"
      },
      "id": "-FyFnQpK5sLs"
    },
    {
      "cell_type": "code",
      "source": [
        "# create a batch from the training data\n",
        "def get_batch(text_int, B, T):\n",
        "    \"\"\"Create a random batch of data from text_int.\n",
        "\n",
        "    Args:\n",
        "      text_int: 1D array of token ids.\n",
        "      B: batch size (number of sequences).\n",
        "      T: sequence length (number of tokens per sequence).\n",
        "\n",
        "    Returns:\n",
        "      x: (B, T) int array input tokens.\n",
        "      y: (B, T) int array target tokens.\n",
        "    \"\"\"\n",
        "    # choose random starting indices for each sequence in the batch\n",
        "    ix = np.random.randint(0, len(text_int) - T, size=B)\n",
        "    # inputs are text from i to i+T\n",
        "    x = np.stack([text_int[i:i+T] for i in ix])\n",
        "    # targets are text from i+1 to i+T+1\n",
        "    y = np.stack([text_int[i+1:i+T+1] for i in ix])\n",
        "    return jnp.array(x, dtype=jnp.int32), jnp.array(y, dtype=jnp.int32)"
      ],
      "metadata": {
        "id": "4pUxiyER5rdE"
      },
      "id": "4pUxiyER5rdE",
      "execution_count": null,
      "outputs": []
    },
    {
      "cell_type": "markdown",
      "id": "f5da80db",
      "metadata": {
        "id": "f5da80db"
      },
      "source": [
        "# Optimizer creation:"
      ]
    },
    {
      "cell_type": "code",
      "execution_count": 187,
      "id": "340e8a4c",
      "metadata": {
        "id": "340e8a4c"
      },
      "outputs": [],
      "source": [
        "learning_rate = 0.001\n",
        "B, T = 128, 32\n",
        "B_test, T_test = 256, 32\n",
        "niter = 100_000\n",
        "k_future = 3\n",
        "label_smoothing = 0.1\n",
        "max_grad_norm = 1.0\n",
        "dtype = jnp.float32\n",
        "\n",
        "key = jax.random.PRNGKey(0)\n",
        "model, params = create_train_state(key, vocab_size = len(char_set), d_model = 256,\n",
        "                                   n_layers = 2, n_heads = 8, max_len = 128)\n",
        "\n",
        "tx = optax.chain(\n",
        "    optax.clip_by_global_norm(max_grad_norm),\n",
        "    optax.adam(learning_rate)\n",
        ")\n",
        "opt_state = tx.init(params)"
      ]
    },
    {
      "cell_type": "markdown",
      "source": [
        "prof's code:"
      ],
      "metadata": {
        "id": "eyQ3Mc7W6Q1Z"
      },
      "id": "eyQ3Mc7W6Q1Z"
    },
    {
      "cell_type": "code",
      "source": [
        "# define optax optimizer\n",
        "learning_rate = 0.001\n",
        "# Create Adam optimizer (Optax)\n",
        "tx = optax.adam(learning_rate=learning_rate)\n",
        "# Initialize optimizer state for current params\n",
        "opt_state = tx.init(params)\n",
        "print(f\"Initialized optimizer: Adam lr={learning_rate}\")"
      ],
      "metadata": {
        "id": "nq3dFQJ26PuN"
      },
      "id": "nq3dFQJ26PuN",
      "execution_count": null,
      "outputs": []
    },
    {
      "cell_type": "markdown",
      "source": [
        "clip_by_global_norm(max_grad_norm) → gradient clipping\n",
        "\n",
        "Effect: Gradients are clipped before being applied by Adam.\n",
        "\n",
        "More robust for training stability, especially for Transformers, which can have exploding gradients."
      ],
      "metadata": {
        "id": "mZpyNmDI7tXY"
      },
      "id": "mZpyNmDI7tXY"
    },
    {
      "cell_type": "code",
      "execution_count": 189,
      "id": "28f2f1d0",
      "metadata": {
        "id": "28f2f1d0",
        "outputId": "1fa15b16-17d1-41bd-a60e-a88ca7620850",
        "colab": {
          "base_uri": "https://localhost:8080/"
        }
      },
      "outputs": [
        {
          "output_type": "stream",
          "name": "stdout",
          "text": [
            "Iter 0 | Time: 24.6s | Loss(train:test): 3.9329:3.6177 | Acc(train:test): 2.1%:17.1%\n",
            "Iter 2_000 | Time: 27.3s | Loss(train:test): 1.8208:1.8423 | Acc(train:test): 55.1%:53.5%\n",
            "Iter 4_000 | Time: 30.7s | Loss(train:test): 1.7845:1.8236 | Acc(train:test): 56.1%:54.8%\n",
            "Iter 6_000 | Time: 33.7s | Loss(train:test): 1.7852:1.8035 | Acc(train:test): 56.2%:55.1%\n",
            "Iter 8_000 | Time: 36.9s | Loss(train:test): 1.7538:1.7504 | Acc(train:test): 57.8%:57.1%\n",
            "Iter 10_000 | Time: 40.0s | Loss(train:test): 1.7167:1.7585 | Acc(train:test): 58.6%:57.6%\n",
            "Iter 12_000 | Time: 43.2s | Loss(train:test): 1.7557:1.7771 | Acc(train:test): 56.5%:56.4%\n",
            "Iter 14_000 | Time: 46.5s | Loss(train:test): 1.7348:1.7420 | Acc(train:test): 58.4%:57.5%\n",
            "Iter 16_000 | Time: 49.7s | Loss(train:test): 1.7203:1.7601 | Acc(train:test): 57.5%:56.4%\n",
            "Iter 18_000 | Time: 52.9s | Loss(train:test): 1.7231:1.7435 | Acc(train:test): 57.6%:57.8%\n",
            "Iter 20_000 | Time: 55.9s | Loss(train:test): 1.7716:1.7404 | Acc(train:test): 56.7%:57.2%\n",
            "Iter 22_000 | Time: 58.7s | Loss(train:test): 1.7449:1.7647 | Acc(train:test): 57.8%:57.0%\n",
            "Iter 24_000 | Time: 62.1s | Loss(train:test): 1.7358:1.7201 | Acc(train:test): 57.8%:58.4%\n",
            "Iter 26_000 | Time: 66.2s | Loss(train:test): 1.7220:1.7453 | Acc(train:test): 58.3%:57.3%\n",
            "Iter 28_000 | Time: 70.3s | Loss(train:test): 1.7005:1.7102 | Acc(train:test): 58.8%:57.7%\n",
            "Iter 30_000 | Time: 74.5s | Loss(train:test): 1.6959:1.7033 | Acc(train:test): 58.3%:58.8%\n",
            "Iter 32_000 | Time: 78.7s | Loss(train:test): 1.6823:1.7174 | Acc(train:test): 59.8%:58.4%\n",
            "Iter 34_000 | Time: 82.8s | Loss(train:test): 1.6920:1.7490 | Acc(train:test): 58.6%:57.3%\n",
            "Iter 36_000 | Time: 86.5s | Loss(train:test): 1.6882:1.7150 | Acc(train:test): 59.6%:58.5%\n",
            "Iter 38_000 | Time: 89.6s | Loss(train:test): 1.6757:1.7286 | Acc(train:test): 59.9%:58.4%\n",
            "Iter 40_000 | Time: 92.7s | Loss(train:test): 1.6710:1.7100 | Acc(train:test): 59.6%:58.5%\n",
            "Iter 42_000 | Time: 95.8s | Loss(train:test): 1.6925:1.7093 | Acc(train:test): 58.4%:58.2%\n",
            "Iter 44_000 | Time: 98.8s | Loss(train:test): 1.6400:1.7212 | Acc(train:test): 61.4%:58.3%\n",
            "Iter 46_000 | Time: 102.5s | Loss(train:test): 1.7046:1.6637 | Acc(train:test): 58.8%:60.0%\n",
            "Iter 48_000 | Time: 106.0s | Loss(train:test): 1.6782:1.7059 | Acc(train:test): 59.7%:58.6%\n",
            "Iter 50_000 | Time: 110.1s | Loss(train:test): 1.6775:1.6991 | Acc(train:test): 59.4%:59.2%\n",
            "Iter 52_000 | Time: 114.5s | Loss(train:test): 1.7189:1.7212 | Acc(train:test): 58.3%:58.1%\n",
            "Iter 54_000 | Time: 118.5s | Loss(train:test): 1.6492:1.6648 | Acc(train:test): 60.8%:60.4%\n",
            "Iter 56_000 | Time: 122.5s | Loss(train:test): 1.6714:1.6884 | Acc(train:test): 60.1%:59.4%\n",
            "Iter 58_000 | Time: 126.8s | Loss(train:test): 1.6651:1.7051 | Acc(train:test): 60.2%:58.7%\n",
            "Iter 60_000 | Time: 130.4s | Loss(train:test): 1.6942:1.6931 | Acc(train:test): 59.6%:58.8%\n",
            "Iter 62_000 | Time: 133.6s | Loss(train:test): 1.6951:1.6834 | Acc(train:test): 59.3%:59.2%\n",
            "Iter 64_000 | Time: 136.8s | Loss(train:test): 1.6609:1.7388 | Acc(train:test): 60.1%:57.6%\n",
            "Iter 66_000 | Time: 140.5s | Loss(train:test): 1.6549:1.7189 | Acc(train:test): 60.7%:58.3%\n",
            "Iter 68_000 | Time: 144.4s | Loss(train:test): 1.6671:1.7098 | Acc(train:test): 60.1%:58.4%\n",
            "Iter 70_000 | Time: 148.0s | Loss(train:test): 1.6517:1.7054 | Acc(train:test): 59.9%:58.7%\n",
            "Iter 72_000 | Time: 151.4s | Loss(train:test): 1.6685:1.6983 | Acc(train:test): 60.5%:58.9%\n",
            "Iter 74_000 | Time: 154.6s | Loss(train:test): 1.7238:1.7193 | Acc(train:test): 58.8%:58.4%\n",
            "Iter 76_000 | Time: 157.8s | Loss(train:test): 1.6774:1.6889 | Acc(train:test): 59.5%:59.5%\n",
            "Iter 78_000 | Time: 161.5s | Loss(train:test): 1.6791:1.6902 | Acc(train:test): 60.2%:59.7%\n",
            "Iter 80_000 | Time: 164.9s | Loss(train:test): 1.6718:1.6941 | Acc(train:test): 60.4%:59.4%\n",
            "Iter 82_000 | Time: 168.3s | Loss(train:test): 1.6942:1.6731 | Acc(train:test): 58.7%:60.4%\n",
            "Iter 84_000 | Time: 172.4s | Loss(train:test): 1.7067:1.7072 | Acc(train:test): 58.3%:59.0%\n",
            "Iter 86_000 | Time: 176.3s | Loss(train:test): 1.6438:1.6853 | Acc(train:test): 61.1%:59.6%\n",
            "Iter 88_000 | Time: 179.9s | Loss(train:test): 1.6415:1.6875 | Acc(train:test): 61.0%:59.3%\n",
            "Iter 90_000 | Time: 184.3s | Loss(train:test): 1.6894:1.7108 | Acc(train:test): 58.6%:58.9%\n",
            "Iter 92_000 | Time: 188.6s | Loss(train:test): 1.6610:1.6754 | Acc(train:test): 59.7%:59.9%\n",
            "Iter 94_000 | Time: 193.0s | Loss(train:test): 1.6235:1.7363 | Acc(train:test): 61.8%:57.6%\n",
            "Iter 96_000 | Time: 197.3s | Loss(train:test): 1.6816:1.7108 | Acc(train:test): 59.7%:59.4%\n",
            "Iter 98_000 | Time: 201.8s | Loss(train:test): 1.7078:1.6849 | Acc(train:test): 59.1%:59.5%\n",
            "Iter 99_999 | Time: 206.2s | Loss(train:test): 1.6369:1.6828 | Acc(train:test): 61.6%:59.2%\n"
          ]
        }
      ],
      "source": [
        "history = {\"train_loss\": [], \"test_loss\": [], \"train_acc\": [], \"test_acc\": [], \"time\": []}\n",
        "time_start = time.time()\n",
        "\n",
        "for it in range(niter):\n",
        "    # Sample batch\n",
        "    x, y = get_batch(train_text_int, B, T)\n",
        "\n",
        "    # Training step\n",
        "    params, opt_state, metrics = train_step(\n",
        "        params, opt_state, x, y, tx, model,\n",
        "        label_smoothing = label_smoothing\n",
        "    )\n",
        "\n",
        "    # Logging\n",
        "    loss_train = metrics[\"loss\"]\n",
        "    acc_train = metrics[\"acc_all\"]\n",
        "    history[\"train_loss\"].append(loss_train)\n",
        "    history[\"train_acc\"].append(acc_train)\n",
        "    history[\"time\"].append(time.time() - time_start)\n",
        "\n",
        "    # Periodic evaluation\n",
        "    if it % (niter // 50) == 0 or it == niter - 1:\n",
        "        test_x, test_y = get_batch(test_text_int, B_test, T_test)\n",
        "        test_logits = model.apply({\"params\": params}, test_x)\n",
        "        test_loss, test_metrics = loss_and_metrics(test_logits, test_y, label_smoothing = label_smoothing)\n",
        "        acc_test = test_metrics[\"acc_all\"]\n",
        "\n",
        "        history[\"test_loss\"].append(test_loss)\n",
        "        history[\"test_acc\"].append(acc_test)\n",
        "\n",
        "        print(f\"Iter {it:_} | Time: {time.time()-time_start:.1f}s | \"\n",
        "              f\"Loss(train:test): {loss_train:.4f}:{test_loss:.4f} | \"\n",
        "              f\"Acc(train:test): {100*acc_train:.1f}%:{100*acc_test:.1f}%\")"
      ]
    },
    {
      "cell_type": "code",
      "execution_count": 192,
      "id": "217fb628",
      "metadata": {
        "id": "217fb628",
        "outputId": "d3d4a29d-e06d-482a-a7e6-9d7b436650f7",
        "colab": {
          "base_uri": "https://localhost:8080/",
          "height": 487
        }
      },
      "outputs": [
        {
          "output_type": "display_data",
          "data": {
            "text/plain": [
              "<Figure size 800x500 with 1 Axes>"
            ],
            "image/png": "[encoded data removed]"
          },
          "metadata": {}
        }
      ],
      "source": [
        "# Convert history lists to arrays for convenience\n",
        "train_time = np.array(history[\"time\"])\n",
        "train_loss = np.array(history[\"train_loss\"])\n",
        "\n",
        "# Test loss was recorded less frequently\n",
        "test_loss = np.array(history[\"test_loss\"])\n",
        "test_acc = np.array(history[\"test_acc\"])\n",
        "\n",
        "# Calculate corresponding time points for test_loss\n",
        "n_test_points = len(test_loss)\n",
        "# The test points correspond to every niter//50 iterations\n",
        "test_time_indices = np.linspace(0, train_time[-1], n_test_points)\n",
        "\n",
        "plt.figure(figsize = (8,5))\n",
        "plt.plot(train_time, train_loss, '-', label = 'Train', color = \"blue\")\n",
        "plt.plot(test_time_indices, test_loss, '-', label = 'Test', color = \"red\", lw = 2)\n",
        "plt.xlabel(\"Time (seconds)\")\n",
        "plt.ylabel(\"Loss\")\n",
        "plt.title(\"Training Loss History\")\n",
        "plt.legend(loc = 'upper right')\n",
        "plt.grid(True)\n",
        "plt.show()"
      ]
    },
    {
      "cell_type": "code",
      "execution_count": 193,
      "id": "fbb0b0d1",
      "metadata": {
        "id": "fbb0b0d1",
        "outputId": "f34b13e4-e4e2-465c-c10b-f4f682af624c",
        "colab": {
          "base_uri": "https://localhost:8080/"
        }
      },
      "outputs": [
        {
          "output_type": "stream",
          "name": "stdout",
          "text": [
            "Generated IDs shape: (1, 1000)\n",
            "Generated text:\n",
            "hello my fri il stin wo wa a h sh ad dep ralenighanaleiffff palanearzarectonoriedonis wm aoreule ondel me ialalar i s th s aligardriliayskef wanyngaledour bojamabiches ch oteik ram s arubear waran ithon othk sothan athelflesoks reim t ke fedopp m tomasitreonethascolethareely wanig ponghet tched t dile abr evif ckuledoqumali o han tha iczemilie pan fff blinanesoneis ireedx ms drinin c achies l s ous ma fleigges tocothams addiescajon abe wat heleinaxim dito s o ace cinedokhereale teichedeje one h ie warho asthkyoredrarithonem ign s this dima t s th a poud wazamanamaneay th leshughatretoumarervi s oy ak prenalin ry is rs ch alyanonevezubudo tonespanesealorinonedoule anicialin buiato ar ys ick in s fumale c a posalineuchon shitethorvilarirablatzgaker talayne les hed cecati ane s amidan ens distpononerileschestore wamaberanagnaro dsherlyriurts arane m e shalidesett wis ch iorale hotonigimetst aneyreindenuches eighe t wa i arotary id jilyor fighch fone amb wor anor chan andudie tera hapoudon daledunetes\n"
          ]
        }
      ],
      "source": [
        "B = 1\n",
        "seed = 42\n",
        "rng = jax.random.PRNGKey(seed)\n",
        "\n",
        "prompt = \"hello my fri\"\n",
        "\n",
        "# Convert prompt to integer IDs (fallback to 0 if char not found)\n",
        "prompt_int = jnp.array([[char_to_int.get(c, 0) for c in prompt.lower()[:64]]], dtype=jnp.int32)\n",
        "\n",
        "gen_len = 1000\n",
        "\n",
        "# Generate tokens\n",
        "out_ids = generation.generate_tokens(\n",
        "    model, params, rng, prompt_int, gen_len,\n",
        "    block_size = 64,  # or max_len depending on your function\n",
        "    temperature = 0.7,\n",
        "    sample = True\n",
        ")\n",
        "\n",
        "print('Generated IDs shape:', out_ids.shape)\n",
        "\n",
        "# Convert IDs back to text\n",
        "generated_text = ''.join(int_to_char.get(int(x), '?') for x in out_ids[0])\n",
        "print('Generated text:')\n",
        "print(prompt + generated_text)  # concatenate with prompt"
      ]
    }
  ],
  "metadata": {
    "kernelspec": {
      "display_name": "Python 3",
      "name": "python3"
    },
    "language_info": {
      "codemirror_mode": {
        "name": "ipython",
        "version": 3
      },
      "file_extension": ".py",
      "mimetype": "text/x-python",
      "name": "python",
      "nbconvert_exporter": "python",
      "pygments_lexer": "ipython3",
      "version": "3.11.13"
    },
    "colab": {
      "provenance": [],
      "gpuType": "V5E1"
    },
    "accelerator": "TPU"
  },
  "nbformat": 4,
  "nbformat_minor": 5
}